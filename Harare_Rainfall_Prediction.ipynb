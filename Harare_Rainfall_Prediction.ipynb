{
 "cells": [
  {
   "cell_type": "markdown",
   "id": "101eeb3b",
   "metadata": {},
   "source": [
    "# Chinhoyi University of Technology\n",
    "\n",
    "\n",
    "# Student Name:                       Charles Mapfidza\n",
    "\n",
    "\n",
    "# Registration Number:            C21146295S\n",
    "\n",
    "\n",
    "# Course Code:                          MSCDA605\n",
    "\n",
    "\n",
    "# Course Name:                         Machine Learning Techniques\n",
    "\n",
    "\n",
    "# Individual Project Assignment: Data Analytics Creativity and Innovation Challenge"
   ]
  },
  {
   "cell_type": "markdown",
   "id": "d8403826",
   "metadata": {},
   "source": [
    "Showcase any data analytics of your choice using Machine Learning/Deep learning to demonstrate your understanding and skills you have acquired in Machine Learning. The point of this exercise is to showcase your creativity and innovation with data analytics. \n",
    "This project must be a masterpiece of data analytics. You are free to use any Machine learning algorithm of your choice, but you are still restricted to using Zimbabwean datasets only. Submit this project as a detailed Jupyter Notebook with all the project\n",
    "outputs with either your dataset or a link to where the dataset can be downloaded. Your student registration number should be clearly stated in the notebook."
   ]
  },
  {
   "cell_type": "markdown",
   "id": "3f8781f5",
   "metadata": {},
   "source": [
    "# Table of Contents\n",
    " <p><div class=\"lev1 toc-item\"><a href=\"#Objective-of-the-Data-Analytics\" data-toc-modified-id=\"Objective-of-the-Data Analytics-1\"><span class=\"toc-item-num\">1&nbsp;&nbsp;</span>Objective of the Data Analytics</a></div><div class=\"lev1 toc-item\"><a href=\"#Data-Source\" data-toc-modified-id=\"Data-Source-2\"><span class=\"toc-item-num\">2&nbsp;&nbsp;</span>Data Source</a></div><div class=\"lev2 toc-item\"><a href=\"#Importing-necessary-libraries\" data-toc-modified-id=\"Importing-necessary-libraries-2\"><span class=\"toc-item-num\">2&nbsp;&nbsp;</span>Importing necessary libraries</a></div><div class=\"lev2 toc-item\"><a href=\"#Data-Preprocessing\" data-toc-modified-id=\"Data-Preprocessing-3\"><span class=\"toc-item-num\">3&nbsp;&nbsp;</span>Data-Preprocessing</a></div><div class=\"lev2 toc-item\"><a href=\"#Cardinality-check\" data-toc-modified-id=\"Cardinality check-4\"><span class=\"toc-item-num\">4&nbsp;&nbsp;</span>Cardinality check</a></div><div class=\"lev1 toc-item\"><a href=\"#Handling-Missing-Values\" data-toc-modified-id=\"Handling-Missing-Values-5\"><span class=\"toc-item-num\">5&nbsp;&nbsp;</span>Handling-Missing-Values</a></div><div class=\"lev2 toc-item\"><a href=\"#Exploratory-Data-Analysis\" data-toc-modified-id=\"Exploratory-Data-Analysis-6\"><span class=\"toc-item-num\">6&nbsp;&nbsp;</span>Exploratory Data Analysis</a></div><div class=\"lev2 toc-item\"><a href=\"#Encoding-of-Categorical-Features\" data-toc-modified-id=\"Encoding-of-Categorical-Features-7\"><span class=\"toc-item-num\">7&nbsp;&nbsp;</span>Encoding of Categorical Features</a></div><div class=\"lev2 toc-item\"><a href=\"#Correlation\" data-toc-modified-id=\"Correlation-8\"><span class=\"toc-item-num\">8&nbsp;&nbsp;</span>Correlation</a></div><div class=\"lev1 toc-item\"><a href=\"#Checking-Feature-Importance\" data-toc-modified-id=\"Checking-Feature-Importance-9\"><span class=\"toc-item-num\">9&nbsp;&nbsp;</span>Checking Feature Importance</a></div><div class=\"lev2 toc-item\"><a href=\"#Splitting-Data-into-training-and-testing-set\" data-toc-modified-id=\"Splitting-Data-into-training-and-testing-set-10\"><span class=\"toc-item-num\">10&nbsp;&nbsp;</span>Splitting Data into training and testing set</a></div><div class=\"lev2 toc-item\"><a href=\"#Feature-Scaling\" data-toc-modified-id=\"Feature-Scaling-11\"><span class=\"toc-item-num\">11&nbsp;&nbsp;</span>Feature Scaling</a></div><div class=\"lev2 toc-item\"><a href=\"#Model-Building\" data-toc-modified-id=\"Model-Building-12\"><span class=\"toc-item-num\">12&nbsp;&nbsp;</span>Model Building</a></div><div class=\"lev2 toc-item\"><a href=\"#Conclusion-and-Remarks\" data-toc-modified-id=\"Conclusion-and-Remarks-13\"><span class=\"toc-item-num\">13&nbsp;&nbsp;</span>Conclusion and Remarks</a></div><div class=\"lev2 toc-item\"><a href=\"#References\" data-toc-modified-id=\"References-14\"><span class=\"toc-item-num\">14&nbsp;&nbsp;</span>References</a></div>"
   ]
  },
  {
   "cell_type": "markdown",
   "id": "1d67d189",
   "metadata": {},
   "source": [
    "# Objective of the Data Analytics"
   ]
  },
  {
   "cell_type": "markdown",
   "id": "e8bc08ef",
   "metadata": {},
   "source": [
    "This is a predictive model on a Harare weather dataset to predict whether or not it will rain tomorrow in Harare. The dataset contains more than 14 years of daily weather observations in Harare. This includes the temperatures (maximum, minimum and average), precipitation (rain), wind speed, wind direction, visibility, cloud cover and the relative humidity. This is a classification problem which can be solved through Logistic Regression. Logistic regression is one of the Machine Learning algorithms, which comes under the Supervised Learning technique. It is used for predicting the categorical dependent variable using a given set of independent variables as in this case.\n",
    "\n",
    "Availability of water in Harare households is a big challenge to an extend that most households with reasonable income have decided to drill boreholes. After long dry spells between April and November, most boreholes have gone dry and are in need of replenishment from rain water. A machine learning model with a reasonable level of prediction accuracy would help in making sure an adequate amount of resources can also be allocated for either rainwater harvesting or households can plan accordingly regarding where to get the precious liquid.\n",
    "\n",
    "In Logistic regression, instead of fitting a regression line, we fit an \"S\" shaped logistic function, which predicts two maximum values (0 or 1) as shown below (adopted from Lecture Notes).\n",
    "\n",
    "![logistic regression](http://www.saedsayad.com/images/LogReg_1.png)"
   ]
  },
  {
   "cell_type": "markdown",
   "id": "c5c49128",
   "metadata": {},
   "source": [
    "# Data Source"
   ]
  },
  {
   "cell_type": "markdown",
   "id": "b5bd157f",
   "metadata": {},
   "source": [
    "The dataset is taken from https://www.visualcrossing.com/weather/weather-data-services#/viewData and contains 14 years of daily weather observations from Harare. Historical data stretching for decades is available including hourly records is available at a cost. With a free account, I am restricted to pulling out 1000 records per day in batches of 250. It was therefore not practical to extract hourly data stretching over a long period of time. Addition of more data did not significantly change the accuracy of the model. The Raining Today and Raining tomorrow columns were added and values derived from the Precipitation column based on whether there is precipitation or not. If precipitation was recorded the value of was set to 'Yes' otherwise value was set to 'No'."
   ]
  },
  {
   "cell_type": "markdown",
   "id": "c1cbb08d",
   "metadata": {},
   "source": [
    "# Importing necessary libraries"
   ]
  },
  {
   "cell_type": "code",
   "execution_count": 1,
   "id": "df2ffce1",
   "metadata": {},
   "outputs": [],
   "source": [
    "from sklearn.preprocessing import MinMaxScaler\n",
    "from sklearn.ensemble import ExtraTreesRegressor\n",
    "from sklearn.model_selection import train_test_split\n",
    "import pandas as pd\n",
    "import numpy as np\n",
    "import matplotlib.pyplot as plt\n",
    "import seaborn as sns\n",
    "%matplotlib inline"
   ]
  },
  {
   "cell_type": "code",
   "execution_count": 2,
   "id": "07937cc0",
   "metadata": {},
   "outputs": [],
   "source": [
    "# Loading the Data Set\n",
    "rain_data = pd.read_csv('Harare_Weather.csv')"
   ]
  },
  {
   "cell_type": "code",
   "execution_count": 3,
   "id": "a2998c77",
   "metadata": {},
   "outputs": [
    {
     "data": {
      "text/html": [
       "<div>\n",
       "<style scoped>\n",
       "    .dataframe tbody tr th:only-of-type {\n",
       "        vertical-align: middle;\n",
       "    }\n",
       "\n",
       "    .dataframe tbody tr th {\n",
       "        vertical-align: top;\n",
       "    }\n",
       "\n",
       "    .dataframe thead th {\n",
       "        text-align: right;\n",
       "    }\n",
       "</style>\n",
       "<table border=\"1\" class=\"dataframe\">\n",
       "  <thead>\n",
       "    <tr style=\"text-align: right;\">\n",
       "      <th></th>\n",
       "      <th>Name</th>\n",
       "      <th>Date time</th>\n",
       "      <th>Maximum Temperature</th>\n",
       "      <th>Minimum Temperature</th>\n",
       "      <th>Temperature</th>\n",
       "      <th>Wind Chill</th>\n",
       "      <th>Heat Index</th>\n",
       "      <th>Precipitation</th>\n",
       "      <th>Snow</th>\n",
       "      <th>Snow Depth</th>\n",
       "      <th>Wind Speed</th>\n",
       "      <th>Wind Direction</th>\n",
       "      <th>Wind Gust</th>\n",
       "      <th>Visibility</th>\n",
       "      <th>Cloud Cover</th>\n",
       "      <th>Relative Humidity</th>\n",
       "      <th>Conditions</th>\n",
       "      <th>Raining Today</th>\n",
       "      <th>Raining Tomorrow</th>\n",
       "    </tr>\n",
       "  </thead>\n",
       "  <tbody>\n",
       "    <tr>\n",
       "      <th>0</th>\n",
       "      <td>Harare, Zimbabwe</td>\n",
       "      <td>2007-09-01</td>\n",
       "      <td>29.9</td>\n",
       "      <td>10.9</td>\n",
       "      <td>21.2</td>\n",
       "      <td>NaN</td>\n",
       "      <td>28.1</td>\n",
       "      <td>0.0</td>\n",
       "      <td>NaN</td>\n",
       "      <td>NaN</td>\n",
       "      <td>16.6</td>\n",
       "      <td>NaN</td>\n",
       "      <td>NaN</td>\n",
       "      <td>12.4</td>\n",
       "      <td>0.0</td>\n",
       "      <td>26.79</td>\n",
       "      <td>Clear</td>\n",
       "      <td>No</td>\n",
       "      <td>No</td>\n",
       "    </tr>\n",
       "    <tr>\n",
       "      <th>1</th>\n",
       "      <td>Harare, Zimbabwe</td>\n",
       "      <td>2007-09-02</td>\n",
       "      <td>27.6</td>\n",
       "      <td>11.1</td>\n",
       "      <td>19.4</td>\n",
       "      <td>NaN</td>\n",
       "      <td>26.3</td>\n",
       "      <td>0.0</td>\n",
       "      <td>NaN</td>\n",
       "      <td>NaN</td>\n",
       "      <td>10.7</td>\n",
       "      <td>NaN</td>\n",
       "      <td>NaN</td>\n",
       "      <td>9.6</td>\n",
       "      <td>0.0</td>\n",
       "      <td>31.67</td>\n",
       "      <td>Clear</td>\n",
       "      <td>No</td>\n",
       "      <td>No</td>\n",
       "    </tr>\n",
       "    <tr>\n",
       "      <th>2</th>\n",
       "      <td>Harare, Zimbabwe</td>\n",
       "      <td>2007-09-03</td>\n",
       "      <td>28.6</td>\n",
       "      <td>15.2</td>\n",
       "      <td>22.5</td>\n",
       "      <td>NaN</td>\n",
       "      <td>27.1</td>\n",
       "      <td>0.0</td>\n",
       "      <td>NaN</td>\n",
       "      <td>NaN</td>\n",
       "      <td>21.4</td>\n",
       "      <td>NaN</td>\n",
       "      <td>NaN</td>\n",
       "      <td>8.2</td>\n",
       "      <td>0.0</td>\n",
       "      <td>12.55</td>\n",
       "      <td>Clear</td>\n",
       "      <td>No</td>\n",
       "      <td>No</td>\n",
       "    </tr>\n",
       "    <tr>\n",
       "      <th>3</th>\n",
       "      <td>Harare, Zimbabwe</td>\n",
       "      <td>2007-09-04</td>\n",
       "      <td>26.2</td>\n",
       "      <td>11.2</td>\n",
       "      <td>19.7</td>\n",
       "      <td>NaN</td>\n",
       "      <td>NaN</td>\n",
       "      <td>0.0</td>\n",
       "      <td>NaN</td>\n",
       "      <td>NaN</td>\n",
       "      <td>25.0</td>\n",
       "      <td>NaN</td>\n",
       "      <td>NaN</td>\n",
       "      <td>8.3</td>\n",
       "      <td>0.0</td>\n",
       "      <td>27.79</td>\n",
       "      <td>Clear</td>\n",
       "      <td>No</td>\n",
       "      <td>No</td>\n",
       "    </tr>\n",
       "    <tr>\n",
       "      <th>4</th>\n",
       "      <td>Harare, Zimbabwe</td>\n",
       "      <td>2007-09-05</td>\n",
       "      <td>27.1</td>\n",
       "      <td>12.9</td>\n",
       "      <td>20.1</td>\n",
       "      <td>NaN</td>\n",
       "      <td>26.1</td>\n",
       "      <td>0.0</td>\n",
       "      <td>NaN</td>\n",
       "      <td>NaN</td>\n",
       "      <td>14.8</td>\n",
       "      <td>NaN</td>\n",
       "      <td>NaN</td>\n",
       "      <td>7.0</td>\n",
       "      <td>0.0</td>\n",
       "      <td>34.86</td>\n",
       "      <td>Clear</td>\n",
       "      <td>No</td>\n",
       "      <td>No</td>\n",
       "    </tr>\n",
       "  </tbody>\n",
       "</table>\n",
       "</div>"
      ],
      "text/plain": [
       "               Name   Date time  Maximum Temperature  Minimum Temperature  \\\n",
       "0  Harare, Zimbabwe  2007-09-01                 29.9                 10.9   \n",
       "1  Harare, Zimbabwe  2007-09-02                 27.6                 11.1   \n",
       "2  Harare, Zimbabwe  2007-09-03                 28.6                 15.2   \n",
       "3  Harare, Zimbabwe  2007-09-04                 26.2                 11.2   \n",
       "4  Harare, Zimbabwe  2007-09-05                 27.1                 12.9   \n",
       "\n",
       "   Temperature  Wind Chill  Heat Index  Precipitation  Snow  Snow Depth  \\\n",
       "0         21.2         NaN        28.1            0.0   NaN         NaN   \n",
       "1         19.4         NaN        26.3            0.0   NaN         NaN   \n",
       "2         22.5         NaN        27.1            0.0   NaN         NaN   \n",
       "3         19.7         NaN         NaN            0.0   NaN         NaN   \n",
       "4         20.1         NaN        26.1            0.0   NaN         NaN   \n",
       "\n",
       "   Wind Speed  Wind Direction  Wind Gust  Visibility  Cloud Cover  \\\n",
       "0        16.6             NaN        NaN        12.4          0.0   \n",
       "1        10.7             NaN        NaN         9.6          0.0   \n",
       "2        21.4             NaN        NaN         8.2          0.0   \n",
       "3        25.0             NaN        NaN         8.3          0.0   \n",
       "4        14.8             NaN        NaN         7.0          0.0   \n",
       "\n",
       "   Relative Humidity Conditions Raining Today Raining Tomorrow  \n",
       "0              26.79      Clear            No               No  \n",
       "1              31.67      Clear            No               No  \n",
       "2              12.55      Clear            No               No  \n",
       "3              27.79      Clear            No               No  \n",
       "4              34.86      Clear            No               No  "
      ]
     },
     "execution_count": 3,
     "metadata": {},
     "output_type": "execute_result"
    }
   ],
   "source": [
    "#Checking the data\n",
    "rain_data.head()"
   ]
  },
  {
   "cell_type": "code",
   "execution_count": 4,
   "id": "a904647e",
   "metadata": {},
   "outputs": [
    {
     "data": {
      "text/plain": [
       "(5174, 19)"
      ]
     },
     "execution_count": 4,
     "metadata": {},
     "output_type": "execute_result"
    }
   ],
   "source": [
    "# Checking the Dimensions of Dataset\n",
    "rain_data.shape"
   ]
  },
  {
   "cell_type": "markdown",
   "id": "9ef7aa4e",
   "metadata": {},
   "source": [
    "This data set consists of 5174 rows and 19 columns, with Raining Tommorw being the dependent variable.\n"
   ]
  },
  {
   "cell_type": "markdown",
   "id": "f9dedefb",
   "metadata": {},
   "source": [
    "# Data Preprocessing"
   ]
  },
  {
   "cell_type": "markdown",
   "id": "8d6e80e6",
   "metadata": {},
   "source": [
    "Collected data is often messy, incomplete, unstructured, inconsistent and redundant. Data Preprocessing techniques help to gain insights from raw data and makes sure that data is clean, organized and compatible with the Machine Learning model."
   ]
  },
  {
   "cell_type": "code",
   "execution_count": 5,
   "id": "6e8a754c",
   "metadata": {},
   "outputs": [
    {
     "name": "stdout",
     "output_type": "stream",
     "text": [
      "<class 'pandas.core.frame.DataFrame'>\n",
      "RangeIndex: 5174 entries, 0 to 5173\n",
      "Data columns (total 19 columns):\n",
      " #   Column               Non-Null Count  Dtype  \n",
      "---  ------               --------------  -----  \n",
      " 0   Name                 5174 non-null   object \n",
      " 1   Date time            5174 non-null   object \n",
      " 2   Maximum Temperature  4737 non-null   float64\n",
      " 3   Minimum Temperature  4737 non-null   float64\n",
      " 4   Temperature          4737 non-null   float64\n",
      " 5   Wind Chill           961 non-null    float64\n",
      " 6   Heat Index           1885 non-null   float64\n",
      " 7   Precipitation        5174 non-null   float64\n",
      " 8   Snow                 0 non-null      float64\n",
      " 9   Snow Depth           0 non-null      float64\n",
      " 10  Wind Speed           4733 non-null   float64\n",
      " 11  Wind Direction       4610 non-null   float64\n",
      " 12  Wind Gust            224 non-null    float64\n",
      " 13  Visibility           4736 non-null   float64\n",
      " 14  Cloud Cover          4737 non-null   float64\n",
      " 15  Relative Humidity    4737 non-null   float64\n",
      " 16  Conditions           4737 non-null   object \n",
      " 17  Raining Today        5174 non-null   object \n",
      " 18  Raining Tomorrow     5174 non-null   object \n",
      "dtypes: float64(14), object(5)\n",
      "memory usage: 768.1+ KB\n"
     ]
    }
   ],
   "source": [
    "# Extracting a concise summary of the Dataset\n",
    "rain_data.info()"
   ]
  },
  {
   "cell_type": "markdown",
   "id": "22be1b55",
   "metadata": {},
   "source": [
    "The Dataset has two data types: float64 and object. With the exception of the Date time, Name, Precipitation, Raining Today and Raining Tomorrow columns, every column has missing values that need to be fixed. Now generating descriptive statistics for the dataset using the function describe() in pandas to summarize and describe the features of data in a meaningful way to extract insights."
   ]
  },
  {
   "cell_type": "code",
   "execution_count": 6,
   "id": "78ceef50",
   "metadata": {
    "scrolled": true
   },
   "outputs": [
    {
     "data": {
      "text/html": [
       "<div>\n",
       "<style scoped>\n",
       "    .dataframe tbody tr th:only-of-type {\n",
       "        vertical-align: middle;\n",
       "    }\n",
       "\n",
       "    .dataframe tbody tr th {\n",
       "        vertical-align: top;\n",
       "    }\n",
       "\n",
       "    .dataframe thead th {\n",
       "        text-align: right;\n",
       "    }\n",
       "</style>\n",
       "<table border=\"1\" class=\"dataframe\">\n",
       "  <thead>\n",
       "    <tr style=\"text-align: right;\">\n",
       "      <th></th>\n",
       "      <th>Maximum Temperature</th>\n",
       "      <th>Minimum Temperature</th>\n",
       "      <th>Temperature</th>\n",
       "      <th>Wind Chill</th>\n",
       "      <th>Heat Index</th>\n",
       "      <th>Precipitation</th>\n",
       "      <th>Snow</th>\n",
       "      <th>Snow Depth</th>\n",
       "      <th>Wind Speed</th>\n",
       "      <th>Wind Direction</th>\n",
       "      <th>Wind Gust</th>\n",
       "      <th>Visibility</th>\n",
       "      <th>Cloud Cover</th>\n",
       "      <th>Relative Humidity</th>\n",
       "    </tr>\n",
       "  </thead>\n",
       "  <tbody>\n",
       "    <tr>\n",
       "      <th>count</th>\n",
       "      <td>4737.000000</td>\n",
       "      <td>4737.000000</td>\n",
       "      <td>4737.000000</td>\n",
       "      <td>961.000000</td>\n",
       "      <td>1885.000000</td>\n",
       "      <td>5174.000000</td>\n",
       "      <td>0.0</td>\n",
       "      <td>0.0</td>\n",
       "      <td>4733.000000</td>\n",
       "      <td>4610.000000</td>\n",
       "      <td>224.000000</td>\n",
       "      <td>4736.000000</td>\n",
       "      <td>4737.000000</td>\n",
       "      <td>4737.000000</td>\n",
       "    </tr>\n",
       "    <tr>\n",
       "      <th>mean</th>\n",
       "      <td>25.318683</td>\n",
       "      <td>13.602934</td>\n",
       "      <td>19.404602</td>\n",
       "      <td>5.833611</td>\n",
       "      <td>28.173846</td>\n",
       "      <td>2.155597</td>\n",
       "      <td>NaN</td>\n",
       "      <td>NaN</td>\n",
       "      <td>19.659539</td>\n",
       "      <td>110.637525</td>\n",
       "      <td>39.941964</td>\n",
       "      <td>14.239696</td>\n",
       "      <td>31.975744</td>\n",
       "      <td>61.500973</td>\n",
       "    </tr>\n",
       "    <tr>\n",
       "      <th>std</th>\n",
       "      <td>3.830874</td>\n",
       "      <td>4.270413</td>\n",
       "      <td>3.576462</td>\n",
       "      <td>2.292202</td>\n",
       "      <td>1.345800</td>\n",
       "      <td>9.215945</td>\n",
       "      <td>NaN</td>\n",
       "      <td>NaN</td>\n",
       "      <td>7.919653</td>\n",
       "      <td>40.620109</td>\n",
       "      <td>8.907745</td>\n",
       "      <td>4.354866</td>\n",
       "      <td>30.872124</td>\n",
       "      <td>16.527259</td>\n",
       "    </tr>\n",
       "    <tr>\n",
       "      <th>min</th>\n",
       "      <td>7.100000</td>\n",
       "      <td>-23.000000</td>\n",
       "      <td>7.100000</td>\n",
       "      <td>-34.900000</td>\n",
       "      <td>25.800000</td>\n",
       "      <td>0.000000</td>\n",
       "      <td>NaN</td>\n",
       "      <td>NaN</td>\n",
       "      <td>0.000000</td>\n",
       "      <td>13.000000</td>\n",
       "      <td>22.300000</td>\n",
       "      <td>3.300000</td>\n",
       "      <td>0.000000</td>\n",
       "      <td>12.550000</td>\n",
       "    </tr>\n",
       "    <tr>\n",
       "      <th>25%</th>\n",
       "      <td>23.000000</td>\n",
       "      <td>10.100000</td>\n",
       "      <td>16.900000</td>\n",
       "      <td>4.500000</td>\n",
       "      <td>27.300000</td>\n",
       "      <td>0.000000</td>\n",
       "      <td>NaN</td>\n",
       "      <td>NaN</td>\n",
       "      <td>14.800000</td>\n",
       "      <td>80.730000</td>\n",
       "      <td>33.500000</td>\n",
       "      <td>11.900000</td>\n",
       "      <td>2.900000</td>\n",
       "      <td>49.410000</td>\n",
       "    </tr>\n",
       "    <tr>\n",
       "      <th>50%</th>\n",
       "      <td>26.000000</td>\n",
       "      <td>14.100000</td>\n",
       "      <td>20.000000</td>\n",
       "      <td>6.200000</td>\n",
       "      <td>27.900000</td>\n",
       "      <td>0.000000</td>\n",
       "      <td>NaN</td>\n",
       "      <td>NaN</td>\n",
       "      <td>18.400000</td>\n",
       "      <td>106.485000</td>\n",
       "      <td>38.900000</td>\n",
       "      <td>13.500000</td>\n",
       "      <td>21.200000</td>\n",
       "      <td>62.370000</td>\n",
       "    </tr>\n",
       "    <tr>\n",
       "      <th>75%</th>\n",
       "      <td>28.000000</td>\n",
       "      <td>17.000000</td>\n",
       "      <td>21.900000</td>\n",
       "      <td>7.300000</td>\n",
       "      <td>28.900000</td>\n",
       "      <td>0.000000</td>\n",
       "      <td>NaN</td>\n",
       "      <td>NaN</td>\n",
       "      <td>22.300000</td>\n",
       "      <td>132.265000</td>\n",
       "      <td>44.300000</td>\n",
       "      <td>15.600000</td>\n",
       "      <td>59.000000</td>\n",
       "      <td>74.050000</td>\n",
       "    </tr>\n",
       "    <tr>\n",
       "      <th>max</th>\n",
       "      <td>36.200000</td>\n",
       "      <td>33.100000</td>\n",
       "      <td>33.100000</td>\n",
       "      <td>9.500000</td>\n",
       "      <td>35.600000</td>\n",
       "      <td>293.100000</td>\n",
       "      <td>NaN</td>\n",
       "      <td>NaN</td>\n",
       "      <td>187.200000</td>\n",
       "      <td>357.000000</td>\n",
       "      <td>94.300000</td>\n",
       "      <td>42.200000</td>\n",
       "      <td>100.000000</td>\n",
       "      <td>100.000000</td>\n",
       "    </tr>\n",
       "  </tbody>\n",
       "</table>\n",
       "</div>"
      ],
      "text/plain": [
       "       Maximum Temperature  Minimum Temperature  Temperature  Wind Chill  \\\n",
       "count          4737.000000          4737.000000  4737.000000  961.000000   \n",
       "mean             25.318683            13.602934    19.404602    5.833611   \n",
       "std               3.830874             4.270413     3.576462    2.292202   \n",
       "min               7.100000           -23.000000     7.100000  -34.900000   \n",
       "25%              23.000000            10.100000    16.900000    4.500000   \n",
       "50%              26.000000            14.100000    20.000000    6.200000   \n",
       "75%              28.000000            17.000000    21.900000    7.300000   \n",
       "max              36.200000            33.100000    33.100000    9.500000   \n",
       "\n",
       "        Heat Index  Precipitation  Snow  Snow Depth   Wind Speed  \\\n",
       "count  1885.000000    5174.000000   0.0         0.0  4733.000000   \n",
       "mean     28.173846       2.155597   NaN         NaN    19.659539   \n",
       "std       1.345800       9.215945   NaN         NaN     7.919653   \n",
       "min      25.800000       0.000000   NaN         NaN     0.000000   \n",
       "25%      27.300000       0.000000   NaN         NaN    14.800000   \n",
       "50%      27.900000       0.000000   NaN         NaN    18.400000   \n",
       "75%      28.900000       0.000000   NaN         NaN    22.300000   \n",
       "max      35.600000     293.100000   NaN         NaN   187.200000   \n",
       "\n",
       "       Wind Direction   Wind Gust   Visibility  Cloud Cover  Relative Humidity  \n",
       "count     4610.000000  224.000000  4736.000000  4737.000000        4737.000000  \n",
       "mean       110.637525   39.941964    14.239696    31.975744          61.500973  \n",
       "std         40.620109    8.907745     4.354866    30.872124          16.527259  \n",
       "min         13.000000   22.300000     3.300000     0.000000          12.550000  \n",
       "25%         80.730000   33.500000    11.900000     2.900000          49.410000  \n",
       "50%        106.485000   38.900000    13.500000    21.200000          62.370000  \n",
       "75%        132.265000   44.300000    15.600000    59.000000          74.050000  \n",
       "max        357.000000   94.300000    42.200000   100.000000         100.000000  "
      ]
     },
     "execution_count": 6,
     "metadata": {},
     "output_type": "execute_result"
    }
   ],
   "source": [
    "rain_data.describe(exclude=[object])"
   ]
  },
  {
   "cell_type": "markdown",
   "id": "2af4e8fe",
   "metadata": {},
   "source": [
    "Minimum Temperature ranges from -23 to 33 degrees celsius with a standard deviation of 4.3. The hottest day in Harare had 36.2 Degrees Celsius. \n",
    "Maximum precipitation received over the period is 293.1mm in a single day."
   ]
  },
  {
   "cell_type": "code",
   "execution_count": 7,
   "id": "341ffb1a",
   "metadata": {},
   "outputs": [
    {
     "data": {
      "text/html": [
       "<div>\n",
       "<style scoped>\n",
       "    .dataframe tbody tr th:only-of-type {\n",
       "        vertical-align: middle;\n",
       "    }\n",
       "\n",
       "    .dataframe tbody tr th {\n",
       "        vertical-align: top;\n",
       "    }\n",
       "\n",
       "    .dataframe thead th {\n",
       "        text-align: right;\n",
       "    }\n",
       "</style>\n",
       "<table border=\"1\" class=\"dataframe\">\n",
       "  <thead>\n",
       "    <tr style=\"text-align: right;\">\n",
       "      <th></th>\n",
       "      <th>Name</th>\n",
       "      <th>Date time</th>\n",
       "      <th>Conditions</th>\n",
       "      <th>Raining Today</th>\n",
       "      <th>Raining Tomorrow</th>\n",
       "    </tr>\n",
       "  </thead>\n",
       "  <tbody>\n",
       "    <tr>\n",
       "      <th>count</th>\n",
       "      <td>5174</td>\n",
       "      <td>5174</td>\n",
       "      <td>4737</td>\n",
       "      <td>5174</td>\n",
       "      <td>5174</td>\n",
       "    </tr>\n",
       "    <tr>\n",
       "      <th>unique</th>\n",
       "      <td>1</td>\n",
       "      <td>5173</td>\n",
       "      <td>6</td>\n",
       "      <td>2</td>\n",
       "      <td>2</td>\n",
       "    </tr>\n",
       "    <tr>\n",
       "      <th>top</th>\n",
       "      <td>Harare, Zimbabwe</td>\n",
       "      <td>12/4/2014</td>\n",
       "      <td>Clear</td>\n",
       "      <td>No</td>\n",
       "      <td>No</td>\n",
       "    </tr>\n",
       "    <tr>\n",
       "      <th>freq</th>\n",
       "      <td>5174</td>\n",
       "      <td>2</td>\n",
       "      <td>2456</td>\n",
       "      <td>4251</td>\n",
       "      <td>4251</td>\n",
       "    </tr>\n",
       "  </tbody>\n",
       "</table>\n",
       "</div>"
      ],
      "text/plain": [
       "                    Name  Date time Conditions Raining Today Raining Tomorrow\n",
       "count               5174       5174       4737          5174             5174\n",
       "unique                 1       5173          6             2                2\n",
       "top     Harare, Zimbabwe  12/4/2014      Clear            No               No\n",
       "freq                5174          2       2456          4251             4251"
      ]
     },
     "execution_count": 7,
     "metadata": {},
     "output_type": "execute_result"
    }
   ],
   "source": [
    "rain_data.describe(include=[object])"
   ]
  },
  {
   "cell_type": "code",
   "execution_count": 8,
   "id": "6e9e5d7c",
   "metadata": {},
   "outputs": [
    {
     "name": "stdout",
     "output_type": "stream",
     "text": [
      "Number of Categorical Features: 5\n",
      "Categorical Features:  ['Name', 'Date time', 'Conditions', 'Raining Today', 'Raining Tomorrow']\n"
     ]
    }
   ],
   "source": [
    "#Finding Categorical Features in the Data set\n",
    "cat_features = [col_name for col_name in rain_data.columns if rain_data[col_name].dtype == 'O']\n",
    "print(\"Number of Categorical Features: {}\".format(len(cat_features)))\n",
    "print(\"Categorical Features: \",cat_features)"
   ]
  },
  {
   "cell_type": "markdown",
   "id": "98115af7",
   "metadata": {},
   "source": [
    "The data has 5 categorical features"
   ]
  },
  {
   "cell_type": "code",
   "execution_count": 9,
   "id": "ba0bc431",
   "metadata": {},
   "outputs": [
    {
     "name": "stdout",
     "output_type": "stream",
     "text": [
      "Number of Numerical Features: 14\n",
      "Numerical Features:  ['Maximum Temperature', 'Minimum Temperature', 'Temperature', 'Wind Chill', 'Heat Index', 'Precipitation', 'Snow', 'Snow Depth', 'Wind Speed', 'Wind Direction', 'Wind Gust', 'Visibility', 'Cloud Cover', 'Relative Humidity']\n"
     ]
    }
   ],
   "source": [
    "#Finding Numerical Features in the Data set\n",
    "num_features = [col_name for col_name in rain_data.columns if rain_data[col_name].dtype != 'O']\n",
    "print(\"Number of Numerical Features: {}\".format(len(num_features)))\n",
    "print(\"Numerical Features: \",num_features)"
   ]
  },
  {
   "cell_type": "markdown",
   "id": "abca5e35",
   "metadata": {},
   "source": [
    "The dataset has 14 numerical features"
   ]
  },
  {
   "cell_type": "markdown",
   "id": "ab9ba443",
   "metadata": {},
   "source": [
    "# Cardinality check"
   ]
  },
  {
   "cell_type": "markdown",
   "id": "d91a26c6",
   "metadata": {},
   "source": [
    "Cardinality is the number of distinct values in each categorical feature. A feature with a high number of distinct values is a high cardinality feature. A high cardinality feature poses many serious problems as it will increase the number of dimensions of data when that feature is encoded. Since this is not good for the Machine Learning model, a high cardinality can be handled through feature engineering or simply dropping that feature if it doesn’t add any value to the model. "
   ]
  },
  {
   "cell_type": "code",
   "execution_count": 10,
   "id": "2898e606",
   "metadata": {},
   "outputs": [
    {
     "name": "stdout",
     "output_type": "stream",
     "text": [
      "No. of unique values of Name is: 1\n",
      "No. of unique values of Date time is: 5173\n",
      "No. of unique values of Conditions is: 7\n",
      "No. of unique values of Raining Today is: 2\n",
      "No. of unique values of Raining Tomorrow is: 2\n"
     ]
    }
   ],
   "source": [
    "# Cardinality check for Categorical features\n",
    "for each_feature in cat_features:\n",
    "   unique_values = len(rain_data[each_feature].unique())\n",
    "   print(\"No. of unique values of {} is: {}\".format(each_feature, unique_values))"
   ]
  },
  {
   "cell_type": "markdown",
   "id": "da0baf87",
   "metadata": {},
   "source": [
    "The Date time column has high cardinality which poses several problems to the model in terms of efficiency and also dimensions of data increase when encoded to numerical data. The Name column refers to location, Harare and has no influence on the model. It would have had an impact if data from various locations was available for analysis. The Date time column will be engineered to come up with years, months and days to reduce the cardinality.\n",
    "The Name will be dropped. The conditions feature which describes the weather including whether it is raining or not so it is not significant to our model, and will also be dropped. "
   ]
  },
  {
   "cell_type": "code",
   "execution_count": 11,
   "id": "2ec65a84",
   "metadata": {},
   "outputs": [],
   "source": [
    "# Feature Engineering of Date column to decrease high cardinality:\n",
    "rain_data['Date time'] = pd.to_datetime(rain_data['Date time'])\n",
    "YEAR = []\n",
    "MONTH = []\n",
    "DAY = []\n",
    "for i in range(len(rain_data)):\n",
    "    DAY.append(rain_data['Date time'][i].day)\n",
    "    MONTH.append(rain_data['Date time'][i].month)\n",
    "    YEAR.append(rain_data['Date time'][i].year)\n",
    "\n",
    "rain_data['Year'] = YEAR\n",
    "rain_data['Month'] = MONTH\n",
    "rain_data['Day'] = DAY "
   ]
  },
  {
   "cell_type": "code",
   "execution_count": 12,
   "id": "0220a8a9",
   "metadata": {},
   "outputs": [
    {
     "data": {
      "text/html": [
       "<div>\n",
       "<style scoped>\n",
       "    .dataframe tbody tr th:only-of-type {\n",
       "        vertical-align: middle;\n",
       "    }\n",
       "\n",
       "    .dataframe tbody tr th {\n",
       "        vertical-align: top;\n",
       "    }\n",
       "\n",
       "    .dataframe thead th {\n",
       "        text-align: right;\n",
       "    }\n",
       "</style>\n",
       "<table border=\"1\" class=\"dataframe\">\n",
       "  <thead>\n",
       "    <tr style=\"text-align: right;\">\n",
       "      <th></th>\n",
       "      <th>Maximum Temperature</th>\n",
       "      <th>Minimum Temperature</th>\n",
       "      <th>Temperature</th>\n",
       "      <th>Wind Chill</th>\n",
       "      <th>Heat Index</th>\n",
       "      <th>Precipitation</th>\n",
       "      <th>Snow</th>\n",
       "      <th>Snow Depth</th>\n",
       "      <th>Wind Speed</th>\n",
       "      <th>Wind Direction</th>\n",
       "      <th>Wind Gust</th>\n",
       "      <th>Visibility</th>\n",
       "      <th>Cloud Cover</th>\n",
       "      <th>Relative Humidity</th>\n",
       "      <th>Raining Today</th>\n",
       "      <th>Raining Tomorrow</th>\n",
       "      <th>Year</th>\n",
       "      <th>Month</th>\n",
       "      <th>Day</th>\n",
       "    </tr>\n",
       "  </thead>\n",
       "  <tbody>\n",
       "    <tr>\n",
       "      <th>0</th>\n",
       "      <td>29.9</td>\n",
       "      <td>10.9</td>\n",
       "      <td>21.2</td>\n",
       "      <td>NaN</td>\n",
       "      <td>28.1</td>\n",
       "      <td>0.0</td>\n",
       "      <td>NaN</td>\n",
       "      <td>NaN</td>\n",
       "      <td>16.6</td>\n",
       "      <td>NaN</td>\n",
       "      <td>NaN</td>\n",
       "      <td>12.4</td>\n",
       "      <td>0.0</td>\n",
       "      <td>26.79</td>\n",
       "      <td>No</td>\n",
       "      <td>No</td>\n",
       "      <td>2007</td>\n",
       "      <td>9</td>\n",
       "      <td>1</td>\n",
       "    </tr>\n",
       "    <tr>\n",
       "      <th>1</th>\n",
       "      <td>27.6</td>\n",
       "      <td>11.1</td>\n",
       "      <td>19.4</td>\n",
       "      <td>NaN</td>\n",
       "      <td>26.3</td>\n",
       "      <td>0.0</td>\n",
       "      <td>NaN</td>\n",
       "      <td>NaN</td>\n",
       "      <td>10.7</td>\n",
       "      <td>NaN</td>\n",
       "      <td>NaN</td>\n",
       "      <td>9.6</td>\n",
       "      <td>0.0</td>\n",
       "      <td>31.67</td>\n",
       "      <td>No</td>\n",
       "      <td>No</td>\n",
       "      <td>2007</td>\n",
       "      <td>9</td>\n",
       "      <td>2</td>\n",
       "    </tr>\n",
       "    <tr>\n",
       "      <th>2</th>\n",
       "      <td>28.6</td>\n",
       "      <td>15.2</td>\n",
       "      <td>22.5</td>\n",
       "      <td>NaN</td>\n",
       "      <td>27.1</td>\n",
       "      <td>0.0</td>\n",
       "      <td>NaN</td>\n",
       "      <td>NaN</td>\n",
       "      <td>21.4</td>\n",
       "      <td>NaN</td>\n",
       "      <td>NaN</td>\n",
       "      <td>8.2</td>\n",
       "      <td>0.0</td>\n",
       "      <td>12.55</td>\n",
       "      <td>No</td>\n",
       "      <td>No</td>\n",
       "      <td>2007</td>\n",
       "      <td>9</td>\n",
       "      <td>3</td>\n",
       "    </tr>\n",
       "    <tr>\n",
       "      <th>3</th>\n",
       "      <td>26.2</td>\n",
       "      <td>11.2</td>\n",
       "      <td>19.7</td>\n",
       "      <td>NaN</td>\n",
       "      <td>NaN</td>\n",
       "      <td>0.0</td>\n",
       "      <td>NaN</td>\n",
       "      <td>NaN</td>\n",
       "      <td>25.0</td>\n",
       "      <td>NaN</td>\n",
       "      <td>NaN</td>\n",
       "      <td>8.3</td>\n",
       "      <td>0.0</td>\n",
       "      <td>27.79</td>\n",
       "      <td>No</td>\n",
       "      <td>No</td>\n",
       "      <td>2007</td>\n",
       "      <td>9</td>\n",
       "      <td>4</td>\n",
       "    </tr>\n",
       "    <tr>\n",
       "      <th>4</th>\n",
       "      <td>27.1</td>\n",
       "      <td>12.9</td>\n",
       "      <td>20.1</td>\n",
       "      <td>NaN</td>\n",
       "      <td>26.1</td>\n",
       "      <td>0.0</td>\n",
       "      <td>NaN</td>\n",
       "      <td>NaN</td>\n",
       "      <td>14.8</td>\n",
       "      <td>NaN</td>\n",
       "      <td>NaN</td>\n",
       "      <td>7.0</td>\n",
       "      <td>0.0</td>\n",
       "      <td>34.86</td>\n",
       "      <td>No</td>\n",
       "      <td>No</td>\n",
       "      <td>2007</td>\n",
       "      <td>9</td>\n",
       "      <td>5</td>\n",
       "    </tr>\n",
       "  </tbody>\n",
       "</table>\n",
       "</div>"
      ],
      "text/plain": [
       "   Maximum Temperature  Minimum Temperature  Temperature  Wind Chill  \\\n",
       "0                 29.9                 10.9         21.2         NaN   \n",
       "1                 27.6                 11.1         19.4         NaN   \n",
       "2                 28.6                 15.2         22.5         NaN   \n",
       "3                 26.2                 11.2         19.7         NaN   \n",
       "4                 27.1                 12.9         20.1         NaN   \n",
       "\n",
       "   Heat Index  Precipitation  Snow  Snow Depth  Wind Speed  Wind Direction  \\\n",
       "0        28.1            0.0   NaN         NaN        16.6             NaN   \n",
       "1        26.3            0.0   NaN         NaN        10.7             NaN   \n",
       "2        27.1            0.0   NaN         NaN        21.4             NaN   \n",
       "3         NaN            0.0   NaN         NaN        25.0             NaN   \n",
       "4        26.1            0.0   NaN         NaN        14.8             NaN   \n",
       "\n",
       "   Wind Gust  Visibility  Cloud Cover  Relative Humidity Raining Today  \\\n",
       "0        NaN        12.4          0.0              26.79            No   \n",
       "1        NaN         9.6          0.0              31.67            No   \n",
       "2        NaN         8.2          0.0              12.55            No   \n",
       "3        NaN         8.3          0.0              27.79            No   \n",
       "4        NaN         7.0          0.0              34.86            No   \n",
       "\n",
       "  Raining Tomorrow  Year  Month  Day  \n",
       "0               No  2007      9    1  \n",
       "1               No  2007      9    2  \n",
       "2               No  2007      9    3  \n",
       "3               No  2007      9    4  \n",
       "4               No  2007      9    5  "
      ]
     },
     "execution_count": 12,
     "metadata": {},
     "output_type": "execute_result"
    }
   ],
   "source": [
    "# Drop Date column\n",
    "rain_data.drop(columns = {'Name','Date time','Conditions'},axis = 1, inplace = True)\n",
    "rain_data.head()"
   ]
  },
  {
   "cell_type": "markdown",
   "id": "6f909d2e",
   "metadata": {},
   "source": [
    "# Handling Missing Values"
   ]
  },
  {
   "cell_type": "markdown",
   "id": "4b03bae6",
   "metadata": {},
   "source": [
    "The Machine learning algorithm cannot handle missing values and this causes problems. Below we identify and impute missing values. The missing values get replaced with NaN (Not a Number) values when loaded with pandas. These NaN values can be identified using methods like isna() or isnull() and they can be imputed using fillna() through the process known as Missing Data Imputation."
   ]
  },
  {
   "cell_type": "code",
   "execution_count": 13,
   "id": "a1455a15",
   "metadata": {},
   "outputs": [
    {
     "data": {
      "text/plain": [
       "Raining Today       0\n",
       "Raining Tomorrow    0\n",
       "dtype: int64"
      ]
     },
     "execution_count": 13,
     "metadata": {},
     "output_type": "execute_result"
    }
   ],
   "source": [
    "# Identifying Missing values in Categorical Features\n",
    "cat_features = [col_name for col_name in rain_data.columns if rain_data[col_name].dtype == 'O']\n",
    "rain_data[cat_features].isnull().sum()"
   ]
  },
  {
   "cell_type": "markdown",
   "id": "b273878e",
   "metadata": {},
   "source": [
    "There are no missing categorical features in the dataset."
   ]
  },
  {
   "cell_type": "code",
   "execution_count": 14,
   "id": "21196196",
   "metadata": {},
   "outputs": [
    {
     "data": {
      "text/plain": [
       "Maximum Temperature     437\n",
       "Minimum Temperature     437\n",
       "Temperature             437\n",
       "Wind Chill             4213\n",
       "Heat Index             3289\n",
       "Precipitation             0\n",
       "Snow                   5174\n",
       "Snow Depth             5174\n",
       "Wind Speed              441\n",
       "Wind Direction          564\n",
       "Wind Gust              4950\n",
       "Visibility              438\n",
       "Cloud Cover             437\n",
       "Relative Humidity       437\n",
       "Year                      0\n",
       "Month                     0\n",
       "Day                       0\n",
       "dtype: int64"
      ]
     },
     "execution_count": 14,
     "metadata": {},
     "output_type": "execute_result"
    }
   ],
   "source": [
    "# Identifying Missing values in Numerical features\n",
    "num_features = [col_name for col_name in rain_data.columns if rain_data[col_name].dtype != 'O']\n",
    "rain_data[num_features].isnull().sum()"
   ]
  },
  {
   "cell_type": "markdown",
   "id": "d3e26345",
   "metadata": {},
   "source": [
    "Missing values in Numerical Features can be imputed using the Mean or the Median. Mean is sensitive to outliers and median is immune to outliers. To impute the missing values with mean values, then outliers in numerical features, if any, need to be addressed properly. Below we try to identify if the datset has any outliers among the numerical features."
   ]
  },
  {
   "cell_type": "markdown",
   "id": "02d22e18",
   "metadata": {},
   "source": [
    "However, the following features have a lot of missing values to the extent that imputing them with the mean will likely not affect how the model will perform: Wind Chill, Heat Index, Snow (no values at all), Snow Depth (no values at all) and Wind Gust. These features will be dropped and the remaining features imputed."
   ]
  },
  {
   "cell_type": "code",
   "execution_count": 15,
   "id": "35c8ccf4",
   "metadata": {},
   "outputs": [],
   "source": [
    "#Dropping the columns\n",
    "rain_data.drop(columns = {'Snow', 'Snow Depth','Wind Chill','Heat Index','Wind Gust'}, inplace = True)"
   ]
  },
  {
   "cell_type": "code",
   "execution_count": 16,
   "id": "edd4965d",
   "metadata": {},
   "outputs": [],
   "source": [
    "#Outliers detection and treatment\n",
    "features_with_outliers = ['Maximum Temperature', 'Minimum Temperature', 'Temperature', \n",
    "                          'Wind Speed', 'Wind Direction', 'Visibility', \n",
    "                          'Cloud Cover', 'Relative Humidity']\n",
    "for feature in features_with_outliers:\n",
    "    q1 = rain_data[feature].quantile(0.25)\n",
    "    q3 = rain_data[feature].quantile(0.75)\n",
    "    IQR = q3-q1\n",
    "    lower_limit = q1 - (IQR*1.5)\n",
    "    upper_limit = q3 + (IQR*1.5)\n",
    "    rain_data.loc[rain_data[feature]<lower_limit,feature] = lower_limit\n",
    "    rain_data.loc[rain_data[feature]>upper_limit,feature] = upper_limit"
   ]
  },
  {
   "cell_type": "markdown",
   "id": "302ebe06",
   "metadata": {},
   "source": [
    "Based on the outcome from the above script, the numerical features are free from outliers. Therefore missing values in numerical features will be imputed using mean."
   ]
  },
  {
   "cell_type": "code",
   "execution_count": 17,
   "id": "65e36f70",
   "metadata": {},
   "outputs": [
    {
     "name": "stdout",
     "output_type": "stream",
     "text": [
      "Number of Numerical Features: 12\n",
      "Numerical Features:  ['Maximum Temperature', 'Minimum Temperature', 'Temperature', 'Precipitation', 'Wind Speed', 'Wind Direction', 'Visibility', 'Cloud Cover', 'Relative Humidity', 'Year', 'Month', 'Day']\n"
     ]
    }
   ],
   "source": [
    "#Reloading the new numerical features in the dataset\n",
    "num_features = [col_name for col_name in rain_data.columns if rain_data[col_name].dtype != 'O']\n",
    "print(\"Number of Numerical Features: {}\".format(len(num_features)))\n",
    "print(\"Numerical Features: \",num_features)"
   ]
  },
  {
   "cell_type": "markdown",
   "id": "5abe8b05",
   "metadata": {},
   "source": [
    "There are now 12 numerical features."
   ]
  },
  {
   "cell_type": "code",
   "execution_count": 18,
   "id": "359a5007",
   "metadata": {},
   "outputs": [],
   "source": [
    "# Imputing missing values in numerical features using mean.\n",
    "num_features_with_null = [feature for feature in num_features if rain_data[feature].isnull().sum()]\n",
    "for feature in num_features_with_null:\n",
    "    mean_value = rain_data[feature].mean()\n",
    "    rain_data[feature].fillna(mean_value,inplace=True)"
   ]
  },
  {
   "cell_type": "code",
   "execution_count": 19,
   "id": "8ba62610",
   "metadata": {},
   "outputs": [
    {
     "data": {
      "text/plain": [
       "Maximum Temperature    0\n",
       "Minimum Temperature    0\n",
       "Temperature            0\n",
       "Precipitation          0\n",
       "Wind Speed             0\n",
       "Wind Direction         0\n",
       "Visibility             0\n",
       "Cloud Cover            0\n",
       "Relative Humidity      0\n",
       "Year                   0\n",
       "Month                  0\n",
       "Day                    0\n",
       "dtype: int64"
      ]
     },
     "execution_count": 19,
     "metadata": {},
     "output_type": "execute_result"
    }
   ],
   "source": [
    "rain_data[num_features].isnull().sum()"
   ]
  },
  {
   "cell_type": "markdown",
   "id": "1cca84a3",
   "metadata": {},
   "source": [
    "All missing values have been imputed."
   ]
  },
  {
   "cell_type": "code",
   "execution_count": 20,
   "id": "1a50682e",
   "metadata": {},
   "outputs": [
    {
     "data": {
      "text/html": [
       "<div>\n",
       "<style scoped>\n",
       "    .dataframe tbody tr th:only-of-type {\n",
       "        vertical-align: middle;\n",
       "    }\n",
       "\n",
       "    .dataframe tbody tr th {\n",
       "        vertical-align: top;\n",
       "    }\n",
       "\n",
       "    .dataframe thead th {\n",
       "        text-align: right;\n",
       "    }\n",
       "</style>\n",
       "<table border=\"1\" class=\"dataframe\">\n",
       "  <thead>\n",
       "    <tr style=\"text-align: right;\">\n",
       "      <th></th>\n",
       "      <th>Maximum Temperature</th>\n",
       "      <th>Minimum Temperature</th>\n",
       "      <th>Temperature</th>\n",
       "      <th>Precipitation</th>\n",
       "      <th>Wind Speed</th>\n",
       "      <th>Wind Direction</th>\n",
       "      <th>Visibility</th>\n",
       "      <th>Cloud Cover</th>\n",
       "      <th>Relative Humidity</th>\n",
       "      <th>Raining Today</th>\n",
       "      <th>Raining Tomorrow</th>\n",
       "      <th>Year</th>\n",
       "      <th>Month</th>\n",
       "      <th>Day</th>\n",
       "    </tr>\n",
       "  </thead>\n",
       "  <tbody>\n",
       "    <tr>\n",
       "      <th>0</th>\n",
       "      <td>29.9</td>\n",
       "      <td>10.9</td>\n",
       "      <td>21.2</td>\n",
       "      <td>0.0</td>\n",
       "      <td>16.60</td>\n",
       "      <td>109.518674</td>\n",
       "      <td>12.4</td>\n",
       "      <td>0.0</td>\n",
       "      <td>26.79</td>\n",
       "      <td>No</td>\n",
       "      <td>No</td>\n",
       "      <td>2007</td>\n",
       "      <td>9</td>\n",
       "      <td>1</td>\n",
       "    </tr>\n",
       "    <tr>\n",
       "      <th>1</th>\n",
       "      <td>27.6</td>\n",
       "      <td>11.1</td>\n",
       "      <td>19.4</td>\n",
       "      <td>0.0</td>\n",
       "      <td>10.70</td>\n",
       "      <td>109.518674</td>\n",
       "      <td>9.6</td>\n",
       "      <td>0.0</td>\n",
       "      <td>31.67</td>\n",
       "      <td>No</td>\n",
       "      <td>No</td>\n",
       "      <td>2007</td>\n",
       "      <td>9</td>\n",
       "      <td>2</td>\n",
       "    </tr>\n",
       "    <tr>\n",
       "      <th>2</th>\n",
       "      <td>28.6</td>\n",
       "      <td>15.2</td>\n",
       "      <td>22.5</td>\n",
       "      <td>0.0</td>\n",
       "      <td>21.40</td>\n",
       "      <td>109.518674</td>\n",
       "      <td>8.2</td>\n",
       "      <td>0.0</td>\n",
       "      <td>12.55</td>\n",
       "      <td>No</td>\n",
       "      <td>No</td>\n",
       "      <td>2007</td>\n",
       "      <td>9</td>\n",
       "      <td>3</td>\n",
       "    </tr>\n",
       "    <tr>\n",
       "      <th>3</th>\n",
       "      <td>26.2</td>\n",
       "      <td>11.2</td>\n",
       "      <td>19.7</td>\n",
       "      <td>0.0</td>\n",
       "      <td>25.00</td>\n",
       "      <td>109.518674</td>\n",
       "      <td>8.3</td>\n",
       "      <td>0.0</td>\n",
       "      <td>27.79</td>\n",
       "      <td>No</td>\n",
       "      <td>No</td>\n",
       "      <td>2007</td>\n",
       "      <td>9</td>\n",
       "      <td>4</td>\n",
       "    </tr>\n",
       "    <tr>\n",
       "      <th>4</th>\n",
       "      <td>27.1</td>\n",
       "      <td>12.9</td>\n",
       "      <td>20.1</td>\n",
       "      <td>0.0</td>\n",
       "      <td>14.80</td>\n",
       "      <td>109.518674</td>\n",
       "      <td>7.0</td>\n",
       "      <td>0.0</td>\n",
       "      <td>34.86</td>\n",
       "      <td>No</td>\n",
       "      <td>No</td>\n",
       "      <td>2007</td>\n",
       "      <td>9</td>\n",
       "      <td>5</td>\n",
       "    </tr>\n",
       "    <tr>\n",
       "      <th>...</th>\n",
       "      <td>...</td>\n",
       "      <td>...</td>\n",
       "      <td>...</td>\n",
       "      <td>...</td>\n",
       "      <td>...</td>\n",
       "      <td>...</td>\n",
       "      <td>...</td>\n",
       "      <td>...</td>\n",
       "      <td>...</td>\n",
       "      <td>...</td>\n",
       "      <td>...</td>\n",
       "      <td>...</td>\n",
       "      <td>...</td>\n",
       "      <td>...</td>\n",
       "    </tr>\n",
       "    <tr>\n",
       "      <th>5169</th>\n",
       "      <td>30.1</td>\n",
       "      <td>19.1</td>\n",
       "      <td>25.8</td>\n",
       "      <td>0.0</td>\n",
       "      <td>26.80</td>\n",
       "      <td>82.420000</td>\n",
       "      <td>11.3</td>\n",
       "      <td>2.8</td>\n",
       "      <td>40.80</td>\n",
       "      <td>No</td>\n",
       "      <td>No</td>\n",
       "      <td>2021</td>\n",
       "      <td>10</td>\n",
       "      <td>25</td>\n",
       "    </tr>\n",
       "    <tr>\n",
       "      <th>5170</th>\n",
       "      <td>29.1</td>\n",
       "      <td>14.9</td>\n",
       "      <td>22.0</td>\n",
       "      <td>0.0</td>\n",
       "      <td>33.55</td>\n",
       "      <td>83.190000</td>\n",
       "      <td>11.3</td>\n",
       "      <td>5.0</td>\n",
       "      <td>61.58</td>\n",
       "      <td>No</td>\n",
       "      <td>No</td>\n",
       "      <td>2021</td>\n",
       "      <td>10</td>\n",
       "      <td>26</td>\n",
       "    </tr>\n",
       "    <tr>\n",
       "      <th>5171</th>\n",
       "      <td>28.1</td>\n",
       "      <td>15.9</td>\n",
       "      <td>21.7</td>\n",
       "      <td>0.0</td>\n",
       "      <td>22.30</td>\n",
       "      <td>101.100000</td>\n",
       "      <td>11.1</td>\n",
       "      <td>44.9</td>\n",
       "      <td>65.15</td>\n",
       "      <td>No</td>\n",
       "      <td>No</td>\n",
       "      <td>2021</td>\n",
       "      <td>10</td>\n",
       "      <td>27</td>\n",
       "    </tr>\n",
       "    <tr>\n",
       "      <th>5172</th>\n",
       "      <td>27.1</td>\n",
       "      <td>15.1</td>\n",
       "      <td>21.6</td>\n",
       "      <td>0.0</td>\n",
       "      <td>18.40</td>\n",
       "      <td>128.600000</td>\n",
       "      <td>13.5</td>\n",
       "      <td>34.8</td>\n",
       "      <td>56.20</td>\n",
       "      <td>No</td>\n",
       "      <td>No</td>\n",
       "      <td>2021</td>\n",
       "      <td>10</td>\n",
       "      <td>28</td>\n",
       "    </tr>\n",
       "    <tr>\n",
       "      <th>5173</th>\n",
       "      <td>29.1</td>\n",
       "      <td>11.7</td>\n",
       "      <td>21.1</td>\n",
       "      <td>0.0</td>\n",
       "      <td>13.00</td>\n",
       "      <td>155.090000</td>\n",
       "      <td>13.1</td>\n",
       "      <td>0.9</td>\n",
       "      <td>53.72</td>\n",
       "      <td>No</td>\n",
       "      <td>No</td>\n",
       "      <td>2021</td>\n",
       "      <td>10</td>\n",
       "      <td>29</td>\n",
       "    </tr>\n",
       "  </tbody>\n",
       "</table>\n",
       "<p>5174 rows × 14 columns</p>\n",
       "</div>"
      ],
      "text/plain": [
       "      Maximum Temperature  Minimum Temperature  Temperature  Precipitation  \\\n",
       "0                    29.9                 10.9         21.2            0.0   \n",
       "1                    27.6                 11.1         19.4            0.0   \n",
       "2                    28.6                 15.2         22.5            0.0   \n",
       "3                    26.2                 11.2         19.7            0.0   \n",
       "4                    27.1                 12.9         20.1            0.0   \n",
       "...                   ...                  ...          ...            ...   \n",
       "5169                 30.1                 19.1         25.8            0.0   \n",
       "5170                 29.1                 14.9         22.0            0.0   \n",
       "5171                 28.1                 15.9         21.7            0.0   \n",
       "5172                 27.1                 15.1         21.6            0.0   \n",
       "5173                 29.1                 11.7         21.1            0.0   \n",
       "\n",
       "      Wind Speed  Wind Direction  Visibility  Cloud Cover  Relative Humidity  \\\n",
       "0          16.60      109.518674        12.4          0.0              26.79   \n",
       "1          10.70      109.518674         9.6          0.0              31.67   \n",
       "2          21.40      109.518674         8.2          0.0              12.55   \n",
       "3          25.00      109.518674         8.3          0.0              27.79   \n",
       "4          14.80      109.518674         7.0          0.0              34.86   \n",
       "...          ...             ...         ...          ...                ...   \n",
       "5169       26.80       82.420000        11.3          2.8              40.80   \n",
       "5170       33.55       83.190000        11.3          5.0              61.58   \n",
       "5171       22.30      101.100000        11.1         44.9              65.15   \n",
       "5172       18.40      128.600000        13.5         34.8              56.20   \n",
       "5173       13.00      155.090000        13.1          0.9              53.72   \n",
       "\n",
       "     Raining Today Raining Tomorrow  Year  Month  Day  \n",
       "0               No               No  2007      9    1  \n",
       "1               No               No  2007      9    2  \n",
       "2               No               No  2007      9    3  \n",
       "3               No               No  2007      9    4  \n",
       "4               No               No  2007      9    5  \n",
       "...            ...              ...   ...    ...  ...  \n",
       "5169            No               No  2021     10   25  \n",
       "5170            No               No  2021     10   26  \n",
       "5171            No               No  2021     10   27  \n",
       "5172            No               No  2021     10   28  \n",
       "5173            No               No  2021     10   29  \n",
       "\n",
       "[5174 rows x 14 columns]"
      ]
     },
     "execution_count": 20,
     "metadata": {},
     "output_type": "execute_result"
    }
   ],
   "source": [
    "rain_data"
   ]
  },
  {
   "cell_type": "markdown",
   "id": "ccfa025a",
   "metadata": {},
   "source": [
    "# Exploratory Data Analysis"
   ]
  },
  {
   "cell_type": "markdown",
   "id": "20d57706",
   "metadata": {},
   "source": [
    "Exploratory Data Analysis(EDA) is a used to analyze, visualize, investigate, interpret, discover and summarize data. It helps Data Scientists to extract trends, patterns, and relationships in data."
   ]
  },
  {
   "cell_type": "code",
   "execution_count": 21,
   "id": "8a873e8c",
   "metadata": {},
   "outputs": [
    {
     "data": {
      "text/plain": [
       "<AxesSubplot:>"
      ]
     },
     "execution_count": 21,
     "metadata": {},
     "output_type": "execute_result"
    },
    {
     "data": {
      "image/png": "[encoded data removed]",
      "text/plain": [
       "<Figure size 432x288 with 1 Axes>"
      ]
     },
     "metadata": {
      "needs_background": "light"
     },
     "output_type": "display_data"
    }
   ],
   "source": [
    "#Univariate Analysis of the target variable\n",
    "rain_data['Raining Tomorrow'].value_counts().plot(kind='bar')"
   ]
  },
  {
   "cell_type": "markdown",
   "id": "6866b370",
   "metadata": {},
   "source": [
    "The Target variable has more ‘No’ values, hence it has an imbalanced. Imbalanced data might decrease the performance of the model. Since this is recorded data, presumably released by the meteorological department of Zimbabwe, it doesn’t make any sense when we try to balance the target variable, because the truthfulness of data might decrease. The data will be kept as it is."
   ]
  },
  {
   "cell_type": "code",
   "execution_count": 22,
   "id": "3f910561",
   "metadata": {},
   "outputs": [
    {
     "data": {
      "text/plain": [
       "<AxesSubplot:xlabel='Year', ylabel='Precipitation'>"
      ]
     },
     "execution_count": 22,
     "metadata": {},
     "output_type": "execute_result"
    },
    {
     "data": {
      "image/png": "[encoded data removed]",
      "text/plain": [
       "<Figure size 432x288 with 1 Axes>"
      ]
     },
     "metadata": {
      "needs_background": "light"
     },
     "output_type": "display_data"
    }
   ],
   "source": [
    "#Rainfall patern over the years\n",
    "precip = pd.DataFrame(rain_data.groupby('Year')['Precipitation'].sum())\n",
    "sns.lineplot(data=precip,x='Year',y='Precipitation',color='green')"
   ]
  },
  {
   "cell_type": "code",
   "execution_count": 23,
   "id": "a24ba2f3",
   "metadata": {},
   "outputs": [
    {
     "data": {
      "text/plain": [
       "<AxesSubplot:xlabel='Cloud Cover', ylabel='Precipitation'>"
      ]
     },
     "execution_count": 23,
     "metadata": {},
     "output_type": "execute_result"
    },
    {
     "data": {
      "image/png": "[encoded data removed]",
      "text/plain": [
       "<Figure size 432x288 with 1 Axes>"
      ]
     },
     "metadata": {
      "needs_background": "light"
     },
     "output_type": "display_data"
    }
   ],
   "source": [
    "#Cloud Cover vs Precipitation\n",
    "sns.lineplot(data=rain_data,x='Cloud Cover',y='Precipitation',color='green')"
   ]
  },
  {
   "cell_type": "markdown",
   "id": "c6968659",
   "metadata": {},
   "source": [
    "In the above plot, there is a positive correlation between the Cloud Cover feature and Precipitation feature. Increase in cloud cover increases the chances of rain."
   ]
  },
  {
   "cell_type": "code",
   "execution_count": 24,
   "id": "6384dd53",
   "metadata": {
    "scrolled": true
   },
   "outputs": [
    {
     "data": {
      "text/plain": [
       "<AxesSubplot:xlabel='Relative Humidity', ylabel='Precipitation'>"
      ]
     },
     "execution_count": 24,
     "metadata": {},
     "output_type": "execute_result"
    },
    {
     "data": {
      "image/png": "[encoded data removed]",
      "text/plain": [
       "<Figure size 432x288 with 1 Axes>"
      ]
     },
     "metadata": {
      "needs_background": "light"
     },
     "output_type": "display_data"
    }
   ],
   "source": [
    "#Relative Humidity vs Precipitation\n",
    "sns.lineplot(data=rain_data,x='Relative Humidity',y='Precipitation',color='green')"
   ]
  },
  {
   "cell_type": "markdown",
   "id": "de6b73a2",
   "metadata": {},
   "source": [
    "In the above line plot, the Relative Humidity feature is proportional to the Precipitation feature."
   ]
  },
  {
   "cell_type": "code",
   "execution_count": 25,
   "id": "ad95bef0",
   "metadata": {},
   "outputs": [
    {
     "data": {
      "text/plain": [
       "<AxesSubplot:xlabel='Relative Humidity', ylabel='Temperature'>"
      ]
     },
     "execution_count": 25,
     "metadata": {},
     "output_type": "execute_result"
    },
    {
     "data": {
      "image/png": "[encoded data removed]",
      "text/plain": [
       "<Figure size 432x288 with 1 Axes>"
      ]
     },
     "metadata": {
      "needs_background": "light"
     },
     "output_type": "display_data"
    }
   ],
   "source": [
    "#Temperature vs Relative Humidity\n",
    "sns.lineplot(data=rain_data,x='Relative Humidity',y='Temperature',color='green')"
   ]
  },
  {
   "cell_type": "markdown",
   "id": "43d172d7",
   "metadata": {},
   "source": [
    "Temperature and Relative Humidity features are inversely proportional to each other."
   ]
  },
  {
   "cell_type": "markdown",
   "id": "a61b10c8",
   "metadata": {},
   "source": [
    "# Encoding of Categorical Features"
   ]
  },
  {
   "cell_type": "markdown",
   "id": "6eac88f3",
   "metadata": {},
   "source": [
    "Raining Today and Raining Tomorrow columns have Yes and No values and these need to be converted into numeric values (zeros and ones). Machine learning algorithms and deep learning neural networks require that input and output variables are numbers. This means that categorical data must be encoded to numbers before we can use it to fit and evaluate a model. Below we use a replace method since the features have a cardinality of 2 unique values."
   ]
  },
  {
   "cell_type": "code",
   "execution_count": 26,
   "id": "f0486e38",
   "metadata": {},
   "outputs": [],
   "source": [
    "# Encoding of Categorical Features\n",
    "rain_data['Raining Today'].replace({'No':0, 'Yes': 1}, inplace = True)\n",
    "rain_data['Raining Tomorrow'].replace({'No':0, 'Yes': 1}, inplace = True)"
   ]
  },
  {
   "cell_type": "code",
   "execution_count": 27,
   "id": "8a7e5c9e",
   "metadata": {
    "scrolled": true
   },
   "outputs": [
    {
     "data": {
      "text/html": [
       "<div>\n",
       "<style scoped>\n",
       "    .dataframe tbody tr th:only-of-type {\n",
       "        vertical-align: middle;\n",
       "    }\n",
       "\n",
       "    .dataframe tbody tr th {\n",
       "        vertical-align: top;\n",
       "    }\n",
       "\n",
       "    .dataframe thead th {\n",
       "        text-align: right;\n",
       "    }\n",
       "</style>\n",
       "<table border=\"1\" class=\"dataframe\">\n",
       "  <thead>\n",
       "    <tr style=\"text-align: right;\">\n",
       "      <th></th>\n",
       "      <th>Maximum Temperature</th>\n",
       "      <th>Minimum Temperature</th>\n",
       "      <th>Temperature</th>\n",
       "      <th>Precipitation</th>\n",
       "      <th>Wind Speed</th>\n",
       "      <th>Wind Direction</th>\n",
       "      <th>Visibility</th>\n",
       "      <th>Cloud Cover</th>\n",
       "      <th>Relative Humidity</th>\n",
       "      <th>Raining Today</th>\n",
       "      <th>Raining Tomorrow</th>\n",
       "      <th>Year</th>\n",
       "      <th>Month</th>\n",
       "      <th>Day</th>\n",
       "    </tr>\n",
       "  </thead>\n",
       "  <tbody>\n",
       "    <tr>\n",
       "      <th>0</th>\n",
       "      <td>29.9</td>\n",
       "      <td>10.9</td>\n",
       "      <td>21.2</td>\n",
       "      <td>0.0</td>\n",
       "      <td>16.60</td>\n",
       "      <td>109.518674</td>\n",
       "      <td>12.4</td>\n",
       "      <td>0.0</td>\n",
       "      <td>26.79</td>\n",
       "      <td>0</td>\n",
       "      <td>0</td>\n",
       "      <td>2007</td>\n",
       "      <td>9</td>\n",
       "      <td>1</td>\n",
       "    </tr>\n",
       "    <tr>\n",
       "      <th>1</th>\n",
       "      <td>27.6</td>\n",
       "      <td>11.1</td>\n",
       "      <td>19.4</td>\n",
       "      <td>0.0</td>\n",
       "      <td>10.70</td>\n",
       "      <td>109.518674</td>\n",
       "      <td>9.6</td>\n",
       "      <td>0.0</td>\n",
       "      <td>31.67</td>\n",
       "      <td>0</td>\n",
       "      <td>0</td>\n",
       "      <td>2007</td>\n",
       "      <td>9</td>\n",
       "      <td>2</td>\n",
       "    </tr>\n",
       "    <tr>\n",
       "      <th>2</th>\n",
       "      <td>28.6</td>\n",
       "      <td>15.2</td>\n",
       "      <td>22.5</td>\n",
       "      <td>0.0</td>\n",
       "      <td>21.40</td>\n",
       "      <td>109.518674</td>\n",
       "      <td>8.2</td>\n",
       "      <td>0.0</td>\n",
       "      <td>12.55</td>\n",
       "      <td>0</td>\n",
       "      <td>0</td>\n",
       "      <td>2007</td>\n",
       "      <td>9</td>\n",
       "      <td>3</td>\n",
       "    </tr>\n",
       "    <tr>\n",
       "      <th>3</th>\n",
       "      <td>26.2</td>\n",
       "      <td>11.2</td>\n",
       "      <td>19.7</td>\n",
       "      <td>0.0</td>\n",
       "      <td>25.00</td>\n",
       "      <td>109.518674</td>\n",
       "      <td>8.3</td>\n",
       "      <td>0.0</td>\n",
       "      <td>27.79</td>\n",
       "      <td>0</td>\n",
       "      <td>0</td>\n",
       "      <td>2007</td>\n",
       "      <td>9</td>\n",
       "      <td>4</td>\n",
       "    </tr>\n",
       "    <tr>\n",
       "      <th>4</th>\n",
       "      <td>27.1</td>\n",
       "      <td>12.9</td>\n",
       "      <td>20.1</td>\n",
       "      <td>0.0</td>\n",
       "      <td>14.80</td>\n",
       "      <td>109.518674</td>\n",
       "      <td>7.0</td>\n",
       "      <td>0.0</td>\n",
       "      <td>34.86</td>\n",
       "      <td>0</td>\n",
       "      <td>0</td>\n",
       "      <td>2007</td>\n",
       "      <td>9</td>\n",
       "      <td>5</td>\n",
       "    </tr>\n",
       "    <tr>\n",
       "      <th>...</th>\n",
       "      <td>...</td>\n",
       "      <td>...</td>\n",
       "      <td>...</td>\n",
       "      <td>...</td>\n",
       "      <td>...</td>\n",
       "      <td>...</td>\n",
       "      <td>...</td>\n",
       "      <td>...</td>\n",
       "      <td>...</td>\n",
       "      <td>...</td>\n",
       "      <td>...</td>\n",
       "      <td>...</td>\n",
       "      <td>...</td>\n",
       "      <td>...</td>\n",
       "    </tr>\n",
       "    <tr>\n",
       "      <th>5169</th>\n",
       "      <td>30.1</td>\n",
       "      <td>19.1</td>\n",
       "      <td>25.8</td>\n",
       "      <td>0.0</td>\n",
       "      <td>26.80</td>\n",
       "      <td>82.420000</td>\n",
       "      <td>11.3</td>\n",
       "      <td>2.8</td>\n",
       "      <td>40.80</td>\n",
       "      <td>0</td>\n",
       "      <td>0</td>\n",
       "      <td>2021</td>\n",
       "      <td>10</td>\n",
       "      <td>25</td>\n",
       "    </tr>\n",
       "    <tr>\n",
       "      <th>5170</th>\n",
       "      <td>29.1</td>\n",
       "      <td>14.9</td>\n",
       "      <td>22.0</td>\n",
       "      <td>0.0</td>\n",
       "      <td>33.55</td>\n",
       "      <td>83.190000</td>\n",
       "      <td>11.3</td>\n",
       "      <td>5.0</td>\n",
       "      <td>61.58</td>\n",
       "      <td>0</td>\n",
       "      <td>0</td>\n",
       "      <td>2021</td>\n",
       "      <td>10</td>\n",
       "      <td>26</td>\n",
       "    </tr>\n",
       "    <tr>\n",
       "      <th>5171</th>\n",
       "      <td>28.1</td>\n",
       "      <td>15.9</td>\n",
       "      <td>21.7</td>\n",
       "      <td>0.0</td>\n",
       "      <td>22.30</td>\n",
       "      <td>101.100000</td>\n",
       "      <td>11.1</td>\n",
       "      <td>44.9</td>\n",
       "      <td>65.15</td>\n",
       "      <td>0</td>\n",
       "      <td>0</td>\n",
       "      <td>2021</td>\n",
       "      <td>10</td>\n",
       "      <td>27</td>\n",
       "    </tr>\n",
       "    <tr>\n",
       "      <th>5172</th>\n",
       "      <td>27.1</td>\n",
       "      <td>15.1</td>\n",
       "      <td>21.6</td>\n",
       "      <td>0.0</td>\n",
       "      <td>18.40</td>\n",
       "      <td>128.600000</td>\n",
       "      <td>13.5</td>\n",
       "      <td>34.8</td>\n",
       "      <td>56.20</td>\n",
       "      <td>0</td>\n",
       "      <td>0</td>\n",
       "      <td>2021</td>\n",
       "      <td>10</td>\n",
       "      <td>28</td>\n",
       "    </tr>\n",
       "    <tr>\n",
       "      <th>5173</th>\n",
       "      <td>29.1</td>\n",
       "      <td>11.7</td>\n",
       "      <td>21.1</td>\n",
       "      <td>0.0</td>\n",
       "      <td>13.00</td>\n",
       "      <td>155.090000</td>\n",
       "      <td>13.1</td>\n",
       "      <td>0.9</td>\n",
       "      <td>53.72</td>\n",
       "      <td>0</td>\n",
       "      <td>0</td>\n",
       "      <td>2021</td>\n",
       "      <td>10</td>\n",
       "      <td>29</td>\n",
       "    </tr>\n",
       "  </tbody>\n",
       "</table>\n",
       "<p>5174 rows × 14 columns</p>\n",
       "</div>"
      ],
      "text/plain": [
       "      Maximum Temperature  Minimum Temperature  Temperature  Precipitation  \\\n",
       "0                    29.9                 10.9         21.2            0.0   \n",
       "1                    27.6                 11.1         19.4            0.0   \n",
       "2                    28.6                 15.2         22.5            0.0   \n",
       "3                    26.2                 11.2         19.7            0.0   \n",
       "4                    27.1                 12.9         20.1            0.0   \n",
       "...                   ...                  ...          ...            ...   \n",
       "5169                 30.1                 19.1         25.8            0.0   \n",
       "5170                 29.1                 14.9         22.0            0.0   \n",
       "5171                 28.1                 15.9         21.7            0.0   \n",
       "5172                 27.1                 15.1         21.6            0.0   \n",
       "5173                 29.1                 11.7         21.1            0.0   \n",
       "\n",
       "      Wind Speed  Wind Direction  Visibility  Cloud Cover  Relative Humidity  \\\n",
       "0          16.60      109.518674        12.4          0.0              26.79   \n",
       "1          10.70      109.518674         9.6          0.0              31.67   \n",
       "2          21.40      109.518674         8.2          0.0              12.55   \n",
       "3          25.00      109.518674         8.3          0.0              27.79   \n",
       "4          14.80      109.518674         7.0          0.0              34.86   \n",
       "...          ...             ...         ...          ...                ...   \n",
       "5169       26.80       82.420000        11.3          2.8              40.80   \n",
       "5170       33.55       83.190000        11.3          5.0              61.58   \n",
       "5171       22.30      101.100000        11.1         44.9              65.15   \n",
       "5172       18.40      128.600000        13.5         34.8              56.20   \n",
       "5173       13.00      155.090000        13.1          0.9              53.72   \n",
       "\n",
       "      Raining Today  Raining Tomorrow  Year  Month  Day  \n",
       "0                 0                 0  2007      9    1  \n",
       "1                 0                 0  2007      9    2  \n",
       "2                 0                 0  2007      9    3  \n",
       "3                 0                 0  2007      9    4  \n",
       "4                 0                 0  2007      9    5  \n",
       "...             ...               ...   ...    ...  ...  \n",
       "5169              0                 0  2021     10   25  \n",
       "5170              0                 0  2021     10   26  \n",
       "5171              0                 0  2021     10   27  \n",
       "5172              0                 0  2021     10   28  \n",
       "5173              0                 0  2021     10   29  \n",
       "\n",
       "[5174 rows x 14 columns]"
      ]
     },
     "execution_count": 27,
     "metadata": {},
     "output_type": "execute_result"
    }
   ],
   "source": [
    "rain_data"
   ]
  },
  {
   "cell_type": "markdown",
   "id": "fb47a25d",
   "metadata": {},
   "source": [
    "# Correlation"
   ]
  },
  {
   "cell_type": "markdown",
   "id": "e5d609b8",
   "metadata": {},
   "source": [
    "The correlation statistic helps to measure the strength of the relationship between two features. It helps to find how independent variables are affecting the dependent variables and also at the same time helps us to remove the variables which are highly correlated to each other."
   ]
  },
  {
   "cell_type": "code",
   "execution_count": 28,
   "id": "32047288",
   "metadata": {},
   "outputs": [
    {
     "data": {
      "text/plain": [
       "<AxesSubplot:>"
      ]
     },
     "execution_count": 28,
     "metadata": {},
     "output_type": "execute_result"
    },
    {
     "data": {
      "image/png": "[encoded data removed]",
      "text/plain": [
       "<Figure size 1440x1440 with 2 Axes>"
      ]
     },
     "metadata": {
      "needs_background": "light"
     },
     "output_type": "display_data"
    }
   ],
   "source": [
    "#Correlation\n",
    "plt.figure(figsize=(20,20))\n",
    "sns.heatmap(rain_data.corr(), linewidths=0.5, annot=False, fmt=\".2f\", cmap = 'viridis')"
   ]
  },
  {
   "cell_type": "markdown",
   "id": "230981bc",
   "metadata": {},
   "source": [
    "Strong correlations can be observed between the following features: Cloud Cover and Humidity, Wind Speed and Month, Minimum Temperature and Cloud Cover. Some weak correlations observed: Visibility and Year, Relative Humidity and Maximum Temperature, Month and Relative Humidity. In this case we will not drop any features as dropping them has been reducing the accuracy of the model."
   ]
  },
  {
   "cell_type": "code",
   "execution_count": 29,
   "id": "16002eac",
   "metadata": {},
   "outputs": [],
   "source": [
    "# Splitting data into Independent Features and Dependent Features:\n",
    "X = rain_data.drop(['Raining Tomorrow'],axis=1)\n",
    "y = rain_data['Raining Tomorrow']"
   ]
  },
  {
   "cell_type": "markdown",
   "id": "584b38e3",
   "metadata": {},
   "source": [
    "In the above script, X – Independent Features or Input features and y – Dependent Features or target label"
   ]
  },
  {
   "cell_type": "markdown",
   "id": "628dce50",
   "metadata": {},
   "source": [
    "# Checking Feature Importance"
   ]
  },
  {
   "cell_type": "code",
   "execution_count": 30,
   "id": "9943aae7",
   "metadata": {},
   "outputs": [
    {
     "data": {
      "text/plain": [
       "array([0.05842615, 0.0614512 , 0.05352766, 0.02033956, 0.05424834,\n",
       "       0.05140908, 0.05364942, 0.20309825, 0.13994286, 0.14523208,\n",
       "       0.06242614, 0.04208007, 0.05416916])"
      ]
     },
     "execution_count": 30,
     "metadata": {},
     "output_type": "execute_result"
    }
   ],
   "source": [
    "# Feature Importance\n",
    "etr_model = ExtraTreesRegressor()\n",
    "etr_model.fit(X,y)\n",
    "etr_model.feature_importances_"
   ]
  },
  {
   "cell_type": "code",
   "execution_count": 31,
   "id": "0b1c4b18",
   "metadata": {},
   "outputs": [
    {
     "data": {
      "text/plain": [
       "<AxesSubplot:>"
      ]
     },
     "execution_count": 31,
     "metadata": {},
     "output_type": "execute_result"
    },
    {
     "data": {
      "image/png": "[encoded data removed]",
      "text/plain": [
       "<Figure size 432x288 with 1 Axes>"
      ]
     },
     "metadata": {
      "needs_background": "light"
     },
     "output_type": "display_data"
    }
   ],
   "source": [
    "# visualization of the feature importance values\n",
    "feature_imp = pd.Series(etr_model.feature_importances_,index=X.columns)\n",
    "feature_imp.nlargest(10).plot(kind='barh')"
   ]
  },
  {
   "cell_type": "markdown",
   "id": "9c63a7a6",
   "metadata": {},
   "source": [
    "Surprisingly, month does not appear to an important feature for the model, against common knowledge that chances of rain are high between December and March. Cloud Cover, Relative Humidity and whether it is raining today are very important features to the model."
   ]
  },
  {
   "cell_type": "markdown",
   "id": "1fd835df",
   "metadata": {},
   "source": [
    "# Splitting data into training and testing set"
   ]
  },
  {
   "cell_type": "markdown",
   "id": "a0aa7230",
   "metadata": {},
   "source": [
    "We split the dataset into a training set (80% of the records) and a test set (20% of the records)."
   ]
  },
  {
   "cell_type": "code",
   "execution_count": 32,
   "id": "b4280fee",
   "metadata": {},
   "outputs": [
    {
     "name": "stdout",
     "output_type": "stream",
     "text": [
      "Length of Training Data: 4139\n",
      "Length of Testing Data: 1035\n"
     ]
    }
   ],
   "source": [
    "#Splitting Data into training and testing set\n",
    "X_train, X_test, y_train, y_test = train_test_split(X,y, test_size = 0.2, random_state = 0)\n",
    "\n",
    "print(\"Length of Training Data: {}\".format(len(X_train)))\n",
    "print(\"Length of Testing Data: {}\".format(len(X_test)))"
   ]
  },
  {
   "cell_type": "markdown",
   "id": "91d52ee5",
   "metadata": {},
   "source": [
    "# Feature Scaling"
   ]
  },
  {
   "cell_type": "markdown",
   "id": "a7e511fe",
   "metadata": {},
   "source": [
    "Through Feature Scaling we are able to standardize the independent features present in the data into a fixed range. It is part of data pre-processing to handle highly varying magnitudes or values or units. In the use case, wind is measured in km/hr, cloud cover as a percentage, rainfall(precipitation) in mm and temperature in degrees celsius hence the need to standardize the features. Below we use MinMaxScaler from Sklearn."
   ]
  },
  {
   "cell_type": "code",
   "execution_count": 33,
   "id": "78e0f7db",
   "metadata": {},
   "outputs": [],
   "source": [
    "#Feature Scaling\n",
    "scaler=MinMaxScaler(feature_range=(0,1))\n",
    "X_train=scaler.fit_transform(X_train)\n",
    "X_test = scaler.transform(X_test)"
   ]
  },
  {
   "cell_type": "code",
   "execution_count": 34,
   "id": "7497b07f",
   "metadata": {},
   "outputs": [
    {
     "data": {
      "text/plain": [
       "(4139, 13)"
      ]
     },
     "execution_count": 34,
     "metadata": {},
     "output_type": "execute_result"
    }
   ],
   "source": [
    "X_train.shape"
   ]
  },
  {
   "cell_type": "code",
   "execution_count": 35,
   "id": "5186beba",
   "metadata": {},
   "outputs": [
    {
     "data": {
      "text/plain": [
       "(1035, 13)"
      ]
     },
     "execution_count": 35,
     "metadata": {},
     "output_type": "execute_result"
    }
   ],
   "source": [
    "X_test.shape"
   ]
  },
  {
   "cell_type": "markdown",
   "id": "4e0af273",
   "metadata": {},
   "source": [
    "# Model Building"
   ]
  },
  {
   "cell_type": "markdown",
   "id": "0a5adb12",
   "metadata": {},
   "source": [
    "Before training the model, we would like to establish how the hyperparameters should be configured. These parameters express important properties of the model such as its complexity or how fast it should learn (Machine Learning Mastery, 2019). The hyperparameters cannot be directly learned from the regular training process and hence should be fixed before the actual training process begins. These include: the penalty in Logistic Regression Classifier i.e. L1 or L2 regularization, the C hyperparameter for supporting vector machines. In this model, we use the GridSearchCV approach where the machine learning model is evaluated for a range of hyperparameter values. GridSearchCV searches for best set of hyperparameters from a grid of hyperparameters values."
   ]
  },
  {
   "cell_type": "code",
   "execution_count": 36,
   "id": "e85e2117",
   "metadata": {},
   "outputs": [
    {
     "name": "stdout",
     "output_type": "stream",
     "text": [
      "Best: 0.879039 using {'C': 1.0, 'penalty': 'l1', 'solver': 'saga'}\n",
      "0.000000 (0.000000) with: {'C': 100, 'penalty': 'l1', 'solver': 'newton-cg'}\n",
      "0.000000 (0.000000) with: {'C': 100, 'penalty': 'l1', 'solver': 'lbfgs'}\n",
      "0.877750 (0.014471) with: {'C': 100, 'penalty': 'l1', 'solver': 'liblinear'}\n",
      "0.000000 (0.000000) with: {'C': 100, 'penalty': 'l1', 'solver': 'sag'}\n",
      "0.877912 (0.014486) with: {'C': 100, 'penalty': 'l1', 'solver': 'saga'}\n",
      "0.877831 (0.014418) with: {'C': 100, 'penalty': 'l2', 'solver': 'newton-cg'}\n",
      "0.877912 (0.014459) with: {'C': 100, 'penalty': 'l2', 'solver': 'lbfgs'}\n",
      "0.877750 (0.014403) with: {'C': 100, 'penalty': 'l2', 'solver': 'liblinear'}\n",
      "0.877831 (0.014418) with: {'C': 100, 'penalty': 'l2', 'solver': 'sag'}\n",
      "0.877831 (0.014418) with: {'C': 100, 'penalty': 'l2', 'solver': 'saga'}\n",
      "0.000000 (0.000000) with: {'C': 10, 'penalty': 'l1', 'solver': 'newton-cg'}\n",
      "0.000000 (0.000000) with: {'C': 10, 'penalty': 'l1', 'solver': 'lbfgs'}\n",
      "0.877992 (0.014147) with: {'C': 10, 'penalty': 'l1', 'solver': 'liblinear'}\n",
      "0.000000 (0.000000) with: {'C': 10, 'penalty': 'l1', 'solver': 'sag'}\n",
      "0.877992 (0.014217) with: {'C': 10, 'penalty': 'l1', 'solver': 'saga'}\n",
      "0.878637 (0.014484) with: {'C': 10, 'penalty': 'l2', 'solver': 'newton-cg'}\n",
      "0.878637 (0.014484) with: {'C': 10, 'penalty': 'l2', 'solver': 'lbfgs'}\n",
      "0.878314 (0.014413) with: {'C': 10, 'penalty': 'l2', 'solver': 'liblinear'}\n",
      "0.878637 (0.014484) with: {'C': 10, 'penalty': 'l2', 'solver': 'sag'}\n",
      "0.878717 (0.014521) with: {'C': 10, 'penalty': 'l2', 'solver': 'saga'}\n",
      "0.000000 (0.000000) with: {'C': 1.0, 'penalty': 'l1', 'solver': 'newton-cg'}\n",
      "0.000000 (0.000000) with: {'C': 1.0, 'penalty': 'l1', 'solver': 'lbfgs'}\n",
      "0.878476 (0.014396) with: {'C': 1.0, 'penalty': 'l1', 'solver': 'liblinear'}\n",
      "0.000000 (0.000000) with: {'C': 1.0, 'penalty': 'l1', 'solver': 'sag'}\n",
      "0.879039 (0.014341) with: {'C': 1.0, 'penalty': 'l1', 'solver': 'saga'}\n",
      "0.874046 (0.015421) with: {'C': 1.0, 'penalty': 'l2', 'solver': 'newton-cg'}\n",
      "0.874046 (0.015421) with: {'C': 1.0, 'penalty': 'l2', 'solver': 'lbfgs'}\n",
      "0.870904 (0.014182) with: {'C': 1.0, 'penalty': 'l2', 'solver': 'liblinear'}\n",
      "0.874046 (0.015421) with: {'C': 1.0, 'penalty': 'l2', 'solver': 'sag'}\n",
      "0.874046 (0.015421) with: {'C': 1.0, 'penalty': 'l2', 'solver': 'saga'}\n",
      "0.000000 (0.000000) with: {'C': 0.1, 'penalty': 'l1', 'solver': 'newton-cg'}\n",
      "0.000000 (0.000000) with: {'C': 0.1, 'penalty': 'l1', 'solver': 'lbfgs'}\n",
      "0.863253 (0.013660) with: {'C': 0.1, 'penalty': 'l1', 'solver': 'liblinear'}\n",
      "0.000000 (0.000000) with: {'C': 0.1, 'penalty': 'l1', 'solver': 'sag'}\n",
      "0.871066 (0.014279) with: {'C': 0.1, 'penalty': 'l1', 'solver': 'saga'}\n",
      "0.862448 (0.014351) with: {'C': 0.1, 'penalty': 'l2', 'solver': 'newton-cg'}\n",
      "0.862448 (0.014351) with: {'C': 0.1, 'penalty': 'l2', 'solver': 'lbfgs'}\n",
      "0.861239 (0.010714) with: {'C': 0.1, 'penalty': 'l2', 'solver': 'liblinear'}\n",
      "0.862448 (0.014351) with: {'C': 0.1, 'penalty': 'l2', 'solver': 'sag'}\n",
      "0.862448 (0.014351) with: {'C': 0.1, 'penalty': 'l2', 'solver': 'saga'}\n",
      "0.000000 (0.000000) with: {'C': 0.01, 'penalty': 'l1', 'solver': 'newton-cg'}\n",
      "0.000000 (0.000000) with: {'C': 0.01, 'penalty': 'l1', 'solver': 'lbfgs'}\n",
      "0.824837 (0.001172) with: {'C': 0.01, 'penalty': 'l1', 'solver': 'liblinear'}\n",
      "0.000000 (0.000000) with: {'C': 0.01, 'penalty': 'l1', 'solver': 'sag'}\n",
      "0.829912 (0.004617) with: {'C': 0.01, 'penalty': 'l1', 'solver': 'saga'}\n",
      "0.829590 (0.004676) with: {'C': 0.01, 'penalty': 'l2', 'solver': 'newton-cg'}\n",
      "0.829590 (0.004676) with: {'C': 0.01, 'penalty': 'l2', 'solver': 'lbfgs'}\n",
      "0.832006 (0.006060) with: {'C': 0.01, 'penalty': 'l2', 'solver': 'liblinear'}\n",
      "0.829510 (0.004756) with: {'C': 0.01, 'penalty': 'l2', 'solver': 'sag'}\n",
      "0.829590 (0.004676) with: {'C': 0.01, 'penalty': 'l2', 'solver': 'saga'}\n"
     ]
    }
   ],
   "source": [
    "#Grid searching key hyperparametres for logistic regression\n",
    "from sklearn.model_selection import RepeatedStratifiedKFold\n",
    "from sklearn.model_selection import GridSearchCV\n",
    "from sklearn.linear_model import LogisticRegression\n",
    "\n",
    "# defining dataset\n",
    "X, y = X_train, y_train\n",
    "\n",
    "# defining models and parameters\n",
    "model = LogisticRegression()\n",
    "solvers = ['newton-cg', 'lbfgs', 'liblinear', 'sag','saga']\n",
    "penalty = ['l1','l2']\n",
    "c_values = [100, 10, 1.0, 0.1, 0.01]\n",
    "\n",
    "# defining grid search\n",
    "grid = dict(solver=solvers,penalty=penalty,C=c_values)\n",
    "cv = RepeatedStratifiedKFold(n_splits=10, n_repeats=3, random_state=1)\n",
    "grid_search = GridSearchCV(estimator=model, param_grid=grid, n_jobs=-1, cv=cv, scoring='accuracy',error_score=0)\n",
    "grid_result = grid_search.fit(X, y)\n",
    "\n",
    "# summarizing results\n",
    "print(\"Best: %f using %s\" % (grid_result.best_score_, grid_result.best_params_))\n",
    "means = grid_result.cv_results_['mean_test_score']\n",
    "stds = grid_result.cv_results_['std_test_score']\n",
    "params = grid_result.cv_results_['params']\n",
    "for mean, stdev, param in zip(means, stds, params):\n",
    "    print(\"%f (%f) with: %r\" % (mean, stdev, param))"
   ]
  },
  {
   "cell_type": "markdown",
   "id": "b34490a9",
   "metadata": {},
   "source": [
    "The best accuracy of 0.879039  is achieved by using the following hyperparameters {'C': 1.0, 'penalty': 'l1', 'solver': 'saga'}. C refers is the inverse of regularization strength; it must be a positive float. Like in support vector machines, smaller values specify stronger regularization.\n",
    "\n",
    "According to Scikit-learn, the solvers implemented in the class LogisticRegression are “liblinear”, “newton-cg”, “lbfgs”, “sag” and “saga”. The solver “liblinear” uses a coordinate descent algorithm which cannot learn a true multinomial (multiclass) model; instead, the optimization problem is decomposed in a “one-vs-rest” fashion so separate binary classifiers are trained for all classes.\n",
    "\n",
    "The “lbfgs”, “sag” and “newton-cg” solvers only support l2 regularization hence the 0.00000 accuracies shown against l1 in the GridSearch above or no regularization, and are found to converge faster for some high-dimensional data. The “sag” solver uses Stochastic Average Gradient descent. It is faster than other solvers for large datasets, when both the number of samples and the number of features are large.\n",
    "\n",
    "The “saga” solver is a variant of “sag” that also supports the non-smooth penalty=\"l1\". This is therefore the solver of choice for sparse multinomial logistic regression. The “lbfgs” solver is recommended for use for small data-sets but for larger datasets its performance suffers.\n",
    "\n",
    "L2 regularizations adds “absolute value of magnitude” of coefficient as penalty term to the loss function while L1 regularization adds “squared magnitude” of coefficient as penalty term to the loss function."
   ]
  },
  {
   "cell_type": "markdown",
   "id": "391ca991",
   "metadata": {},
   "source": [
    "Sklearn library has a module called linear_model, which provides LogisticRegression class to train a model or a classifier and test it. Using the hyperparameters above, the model is trained as below:"
   ]
  },
  {
   "cell_type": "code",
   "execution_count": 37,
   "id": "a4c94646",
   "metadata": {},
   "outputs": [
    {
     "data": {
      "text/plain": [
       "LogisticRegression(penalty='l1', random_state=0, solver='saga')"
      ]
     },
     "execution_count": 37,
     "metadata": {},
     "output_type": "execute_result"
    }
   ],
   "source": [
    "# Model Training using Logistic Regression\n",
    "from sklearn.linear_model import LogisticRegression\n",
    "classifier_logreg = LogisticRegression(solver='saga', penalty = 'l1',C=1.0,random_state=0)\n",
    "classifier_logreg.fit(X_train, y_train)"
   ]
  },
  {
   "cell_type": "code",
   "execution_count": 38,
   "id": "b725871a",
   "metadata": {},
   "outputs": [
    {
     "data": {
      "text/plain": [
       "array([0, 0, 0, ..., 0, 0, 1], dtype=int64)"
      ]
     },
     "execution_count": 38,
     "metadata": {},
     "output_type": "execute_result"
    }
   ],
   "source": [
    "#Model Testing\n",
    "y_pred = classifier_logreg.predict(X_test)\n",
    "y_pred"
   ]
  },
  {
   "cell_type": "code",
   "execution_count": 39,
   "id": "1ba0f73e",
   "metadata": {},
   "outputs": [
    {
     "name": "stdout",
     "output_type": "stream",
     "text": [
      "Accuracy Score is: 0.8782608695652174\n"
     ]
    }
   ],
   "source": [
    "# Evaluating Model Performance:\n",
    "from sklearn.metrics import accuracy_score\n",
    "print(\"Accuracy Score is: {}\".format(accuracy_score(y_test,y_pred)))"
   ]
  },
  {
   "cell_type": "code",
   "execution_count": 40,
   "id": "9409bc02",
   "metadata": {},
   "outputs": [
    {
     "name": "stdout",
     "output_type": "stream",
     "text": [
      "Train Data Score: 0.881130707900459\n",
      "Test Data Score: 0.8782608695652174\n"
     ]
    }
   ],
   "source": [
    "# Checking for Underfitting and Overfitting\n",
    "print(\"Train Data Score: {}\".format(classifier_logreg.score(X_train, y_train)))\n",
    "print(\"Test Data Score: {}\".format(classifier_logreg.score(X_test, y_test)))"
   ]
  },
  {
   "cell_type": "markdown",
   "id": "ad3cf190",
   "metadata": {},
   "source": [
    "The accuracy score of training and testing data is comparable and almost equal. So, there is no question of underfitting and overfitting. And the model is generalizing well for new unseen data. The logistic Regression model accuracy score is 0.87826. The model does a very good job of predicting. The model shows no sign of Underfitting or Overfitting. This means the model generalizing well for unseen data."
   ]
  },
  {
   "cell_type": "code",
   "execution_count": 41,
   "id": "0b5e364c",
   "metadata": {},
   "outputs": [
    {
     "data": {
      "text/plain": [
       "<AxesSubplot:>"
      ]
     },
     "execution_count": 41,
     "metadata": {},
     "output_type": "execute_result"
    },
    {
     "data": {
      "image/png": "[encoded data removed]",
      "text/plain": [
       "<Figure size 432x288 with 2 Axes>"
      ]
     },
     "metadata": {
      "needs_background": "light"
     },
     "output_type": "display_data"
    }
   ],
   "source": [
    "# Confusion Matrix\n",
    "from sklearn.metrics import confusion_matrix\n",
    "sns.heatmap(pd.DataFrame(confusion_matrix(y_test, y_pred)), annot=True, fmt='d', cmap='YlGnBu', alpha=0.8, vmin=0)"
   ]
  },
  {
   "cell_type": "markdown",
   "id": "d0cf355c",
   "metadata": {},
   "source": [
    "The confusion matrix above shows that the model classified 782 true negatives, 127 true positives, 55 false positives and 71 false negatives."
   ]
  },
  {
   "cell_type": "code",
   "execution_count": 42,
   "id": "8d414283",
   "metadata": {},
   "outputs": [
    {
     "name": "stdout",
     "output_type": "stream",
     "text": [
      "              precision    recall  f1-score   support\n",
      "\n",
      "           0       0.92      0.93      0.93       837\n",
      "           1       0.70      0.64      0.67       198\n",
      "\n",
      "    accuracy                           0.88      1035\n",
      "   macro avg       0.81      0.79      0.80      1035\n",
      "weighted avg       0.87      0.88      0.88      1035\n",
      "\n"
     ]
    }
   ],
   "source": [
    "# Classification-report\n",
    "from sklearn.metrics import classification_report\n",
    "print(classification_report(y_test,y_pred))"
   ]
  },
  {
   "cell_type": "markdown",
   "id": "593bb4d0",
   "metadata": {},
   "source": [
    "The precision looks at how many are correctly classified among the classes. Precision, Recall and F1-scrore are higher in class 0 compared to class 1. The support is the number of occurence of the given class in the dataset, so we have 837 of class 0 and 198 of class 1, which is a really imbalanced dataset. Precision and recall are highly used for imbalanced dataset because in an highly imbalanced dataset, a very high accuracy can be meaningless."
   ]
  },
  {
   "cell_type": "code",
   "execution_count": 43,
   "id": "80e5b86c",
   "metadata": {},
   "outputs": [
    {
     "data": {
      "image/png": "[encoded data removed]",
      "text/plain": [
       "<Figure size 432x288 with 1 Axes>"
      ]
     },
     "metadata": {
      "needs_background": "light"
     },
     "output_type": "display_data"
    }
   ],
   "source": [
    "# Receiver operating characteristic(ROC) curve:\n",
    "y_pred_logreg_proba = classifier_logreg.predict_proba(X_test)\n",
    "from sklearn.metrics import roc_curve\n",
    "fpr, tpr, thresholds = roc_curve(y_test, y_pred_logreg_proba[:,1])\n",
    "plt.figure(figsize=(6,4))\n",
    "plt.plot(fpr,tpr,'-g',linewidth=1)\n",
    "plt.plot([0,1], [0,1], 'k--' )\n",
    "plt.title('ROC curve for Logistic Regression Model')\n",
    "plt.xlabel(\"False Positive Rate\")\n",
    "plt.ylabel('True Positive Rate')\n",
    "plt.show()"
   ]
  },
  {
   "cell_type": "markdown",
   "id": "2437f85e",
   "metadata": {},
   "source": [
    "A Receiver Operating Characteristic (ROC) curve is a graphical plot used to show the diagnostic ability of binary classifiers. The ROC curve shows the trade-off between sensitivity (or True Positive Rate) and specificity (1 – False Positive Rate). The model gives a curve closer to the top-left corner, indicating a better performance. The closer the curve comes to the 45-degree diagonal of the ROC space, the less accurate the test."
   ]
  },
  {
   "cell_type": "code",
   "execution_count": 44,
   "id": "63828743",
   "metadata": {
    "scrolled": true
   },
   "outputs": [
    {
     "name": "stdout",
     "output_type": "stream",
     "text": [
      "Cross-validation scores:[0.87681159 0.88647343 0.86352657 0.87439614 0.88512696]\n",
      "Average cross-validation score: 0.8772669388804186\n"
     ]
    }
   ],
   "source": [
    "# Cross-Validation:\n",
    "from sklearn.model_selection import cross_val_score\n",
    "scores = cross_val_score(classifier_logreg, X_train, y_train, cv = 5, scoring='accuracy')\n",
    "print('Cross-validation scores:{}'.format(scores))\n",
    "print('Average cross-validation score: {}'.format(scores.mean()))"
   ]
  },
  {
   "cell_type": "markdown",
   "id": "d36626f1",
   "metadata": {},
   "source": [
    "The mean accuracy score of cross-validation is almost the same as the original model accuracy score which is 0.87826. So, the accuracy of the model may not be improved using cross-validation."
   ]
  },
  {
   "cell_type": "code",
   "execution_count": 45,
   "id": "8d2284df",
   "metadata": {},
   "outputs": [
    {
     "name": "stdout",
     "output_type": "stream",
     "text": [
      "File saved to disk successfully\n"
     ]
    }
   ],
   "source": [
    "# Saving the Model and Scaling object with Pickle\n",
    "import pickle\n",
    "\n",
    "with open('scaler.pkl', 'wb') as file:\n",
    "\n",
    "    pickle.dump(scaler, file) # scaler is an object of MinMaxScaler class.\n",
    "    print('File saved to disk successfully')"
   ]
  },
  {
   "cell_type": "code",
   "execution_count": 46,
   "id": "0240b656",
   "metadata": {},
   "outputs": [
    {
     "name": "stdout",
     "output_type": "stream",
     "text": [
      "File saved to disk successfully\n"
     ]
    }
   ],
   "source": [
    "with open('logreg.pkl', 'wb') as file:\n",
    "    pickle.dump(classifier_logreg, file) # here classifier_logreg is trained model\n",
    "    print('File saved to disk successfully')"
   ]
  },
  {
   "cell_type": "markdown",
   "id": "7b78cf20",
   "metadata": {},
   "source": [
    "# Conclusion and Remarks"
   ]
  },
  {
   "cell_type": "markdown",
   "id": "afae7048",
   "metadata": {},
   "source": [
    "The logistic Regression model accuracy score is 0.87826 (88%). The model does a very good job of predicting.\n",
    "The model shows no sign of Underfitting or Overfitting. This means the model generalizing well for unseen data.\n",
    "The mean accuracy score of cross-validation is almost the same as the original model accuracy score. So, the accuracy of the model may not be improved using Cross-validation."
   ]
  },
  {
   "cell_type": "markdown",
   "id": "86982b62",
   "metadata": {},
   "source": [
    "# References\n",
    "\n",
    "Scikit-learn: Machine Learning in Python, Pedregosa et al., JMLR 12, pp. 2825-2830, 2011.\n",
    "https://scikit-learn.org/stable/modules/generated/sklearn.linear_model.LogisticRegression.html\n",
    "\n",
    "https://www.javatpoint.com/logistic-regression-in-machine-learning\n",
    "\n",
    "https://machinelearningmastery.com/hyperparameters-for-classification-machine-learning-algorithms/\n",
    "\n",
    "https://machinelearningmastery.com/save-load-machine-learning-models-python-scikit-learn/\n",
    "\n",
    "https://towardsdatascience.com/l1-and-l2-regularization-methods-ce25e7fc831c\n",
    "\n"
   ]
  },
  {
   "cell_type": "markdown",
   "id": "982d6ec8",
   "metadata": {},
   "source": [
    "\n"
   ]
  },
  {
   "cell_type": "code",
   "execution_count": null,
   "id": "c720010b",
   "metadata": {},
   "outputs": [],
   "source": []
  }
 ],
 "metadata": {
  "kernelspec": {
   "display_name": "Python 3 (ipykernel)",
   "language": "python",
   "name": "python3"
  },
  "language_info": {
   "codemirror_mode": {
    "name": "ipython",
    "version": 3
   },
   "file_extension": ".py",
   "mimetype": "text/x-python",
   "name": "python",
   "nbconvert_exporter": "python",
   "pygments_lexer": "ipython3",
   "version": "3.7.9"
  }
 },
 "nbformat": 4,
 "nbformat_minor": 5
}
